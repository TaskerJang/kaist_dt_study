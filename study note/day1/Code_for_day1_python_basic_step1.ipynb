{
 "cells": [
  {
   "cell_type": "markdown",
   "id": "f506c03f",
   "metadata": {},
   "source": [
    "## Jupyter Notebook \n",
    "This cell shows you some examples of markdown language.\n",
    "이렇게 한글로 정리할 수도 있고, \n",
    "1. 번호에\n",
    "2. 맞추어 정리할 수도 \n",
    "3. 있습니다.\n",
    "\n",
    "더 많은 형식을 알아보고 싶으시면 아래 두 링크를 참고하세요.\n",
    "* https://gist.github.com/ihoneymon/652be052a0727ad59601 \n",
    "* https://www.heropy.dev/p/B74sNE"
   ]
  },
  {
   "cell_type": "markdown",
   "id": "fdd2e82d",
   "metadata": {},
   "source": [
    "* * *"
   ]
  },
  {
   "cell_type": "markdown",
   "id": "c2def476",
   "metadata": {},
   "source": [
    "## Variable"
   ]
  },
  {
   "cell_type": "markdown",
   "id": "41a07401",
   "metadata": {},
   "source": [
    "### Guess!"
   ]
  },
  {
   "cell_type": "code",
   "execution_count": 1,
   "id": "d472e716-a7d1-4711-9a03-40235ee08d4d",
   "metadata": {
    "ExecuteTime": {
     "end_time": "2024-03-23T06:38:55.819814200Z",
     "start_time": "2024-03-23T06:38:55.765814200Z"
    }
   },
   "outputs": [
    {
     "name": "stdout",
     "output_type": "stream",
     "text": [
      "Jiyeon Seo\n"
     ]
    }
   ],
   "source": [
    "lecturer = \"Jiyeon Seo\"\n",
    "print(lecturer)"
   ]
  },
  {
   "cell_type": "code",
   "execution_count": 2,
   "id": "e6815bf9",
   "metadata": {},
   "outputs": [
    {
     "data": {
      "text/plain": [
       "2233824996848"
      ]
     },
     "execution_count": 2,
     "metadata": {},
     "output_type": "execute_result"
    }
   ],
   "source": [
    "id(lecturer)"
   ]
  },
  {
   "cell_type": "code",
   "execution_count": 3,
   "id": "aa471380",
   "metadata": {},
   "outputs": [
    {
     "name": "stdout",
     "output_type": "stream",
     "text": [
      "12\n"
     ]
    }
   ],
   "source": [
    "a=7\n",
    "b=5\n",
    "print(a+b)"
   ]
  },
  {
   "cell_type": "code",
   "execution_count": 4,
   "id": "662bc135",
   "metadata": {},
   "outputs": [
    {
     "name": "stdout",
     "output_type": "stream",
     "text": [
      "a+b\n"
     ]
    }
   ],
   "source": [
    "a=7\n",
    "b=5\n",
    "print(\"a+b\")"
   ]
  },
  {
   "cell_type": "markdown",
   "id": "a3642c02",
   "metadata": {},
   "source": [
    "### Variable name examples"
   ]
  },
  {
   "cell_type": "code",
   "execution_count": 5,
   "id": "f47bff55",
   "metadata": {},
   "outputs": [],
   "source": [
    "#good examples\n",
    "name = 'Jiyeon Seo'\n",
    "this_year = 2024\n",
    "last_year = 2023\n",
    "month = 2\n",
    "n_friends = 20\n",
    "n_stocks = 5000\n",
    "major = \"Finance\"\n",
    "is_BTS_famous = True\n",
    "MAX_ITERATION = 20 # magic number"
   ]
  },
  {
   "cell_type": "code",
   "execution_count": 6,
   "id": "c14f4f94",
   "metadata": {},
   "outputs": [
    {
     "ename": "SyntaxError",
     "evalue": "invalid syntax (1144165853.py, line 3)",
     "output_type": "error",
     "traceback": [
      "\u001B[1;36m  Cell \u001B[1;32mIn[6], line 3\u001B[1;36m\u001B[0m\n\u001B[1;33m    7days = 7\u001B[0m\n\u001B[1;37m     ^\u001B[0m\n\u001B[1;31mSyntaxError\u001B[0m\u001B[1;31m:\u001B[0m invalid syntax\n"
     ]
    }
   ],
   "source": [
    "#bad examples\n",
    "lI0O = 'confusing' # capital i and lower case of L, number zero and capital letter O\n",
    "7days = 7"
   ]
  },
  {
   "cell_type": "code",
   "execution_count": 7,
   "id": "9973e636",
   "metadata": {},
   "outputs": [
    {
     "ename": "SyntaxError",
     "evalue": "invalid syntax (2659530618.py, line 2)",
     "output_type": "error",
     "traceback": [
      "\u001B[1;36m  Cell \u001B[1;32mIn[7], line 2\u001B[1;36m\u001B[0m\n\u001B[1;33m    for = 12\u001B[0m\n\u001B[1;37m        ^\u001B[0m\n\u001B[1;31mSyntaxError\u001B[0m\u001B[1;31m:\u001B[0m invalid syntax\n"
     ]
    }
   ],
   "source": [
    "#bad example\n",
    "for = 12"
   ]
  },
  {
   "cell_type": "markdown",
   "id": "ca9608fc",
   "metadata": {},
   "source": [
    "---"
   ]
  },
  {
   "cell_type": "markdown",
   "id": "23200724",
   "metadata": {},
   "source": [
    "## Data Types and Basic Operation"
   ]
  },
  {
   "cell_type": "markdown",
   "id": "ca651f6d",
   "metadata": {},
   "source": [
    "### Numeric types"
   ]
  },
  {
   "cell_type": "code",
   "execution_count": 8,
   "id": "b5ba6eca",
   "metadata": {},
   "outputs": [
    {
     "name": "stdout",
     "output_type": "stream",
     "text": [
      "1 1\n"
     ]
    }
   ],
   "source": [
    "a=1 # interger\n",
    "b=1 \n",
    "print(a, b)"
   ]
  },
  {
   "cell_type": "code",
   "execution_count": 9,
   "id": "decc6f92",
   "metadata": {},
   "outputs": [
    {
     "name": "stdout",
     "output_type": "stream",
     "text": [
      "1.5 3.5\n"
     ]
    }
   ],
   "source": [
    "a=1.5 # float\n",
    "b=3.5 \n",
    "print(a, b)"
   ]
  },
  {
   "cell_type": "code",
   "execution_count": 10,
   "id": "6dd2368b",
   "metadata": {},
   "outputs": [
    {
     "name": "stdout",
     "output_type": "stream",
     "text": [
      "424.0\n",
      "3.14\n"
     ]
    }
   ],
   "source": [
    "a = 4.24E2 # float\n",
    "b = 314E-2\n",
    "print(a)\n",
    "print(b)"
   ]
  },
  {
   "cell_type": "code",
   "execution_count": 11,
   "id": "1246e763",
   "metadata": {},
   "outputs": [
    {
     "name": "stdout",
     "output_type": "stream",
     "text": [
      "8\n"
     ]
    }
   ],
   "source": [
    "print(2*4) # 곱셈"
   ]
  },
  {
   "cell_type": "code",
   "execution_count": 12,
   "id": "2da95197",
   "metadata": {
    "scrolled": true
   },
   "outputs": [
    {
     "name": "stdout",
     "output_type": "stream",
     "text": [
      "243\n"
     ]
    }
   ],
   "source": [
    "print(3*3*3*3*3) # 3을 다섯 번 곱함"
   ]
  },
  {
   "cell_type": "code",
   "execution_count": 13,
   "id": "c376bd19",
   "metadata": {},
   "outputs": [
    {
     "name": "stdout",
     "output_type": "stream",
     "text": [
      "243\n"
     ]
    }
   ],
   "source": [
    "print(3**5) # 3의 5승 "
   ]
  },
  {
   "cell_type": "code",
   "execution_count": 14,
   "id": "9ae6260e",
   "metadata": {},
   "outputs": [
    {
     "name": "stdout",
     "output_type": "stream",
     "text": [
      "3.5\n"
     ]
    }
   ],
   "source": [
    "print(7.0/2.0)"
   ]
  },
  {
   "cell_type": "code",
   "execution_count": 15,
   "id": "2ec1c098",
   "metadata": {},
   "outputs": [
    {
     "name": "stdout",
     "output_type": "stream",
     "text": [
      "3.5\n",
      "3.5\n"
     ]
    }
   ],
   "source": [
    "print (7 / 2) # 7 나누기 2 (정수형 계산)\n",
    "print(7.0/2)"
   ]
  },
  {
   "cell_type": "code",
   "execution_count": 16,
   "id": "1943dd39",
   "metadata": {},
   "outputs": [
    {
     "name": "stdout",
     "output_type": "stream",
     "text": [
      "1\n"
     ]
    }
   ],
   "source": [
    "print (7 % 2) # 7 나누기 2의 나머지"
   ]
  },
  {
   "cell_type": "code",
   "execution_count": 17,
   "id": "3a6e50ea",
   "metadata": {},
   "outputs": [
    {
     "name": "stdout",
     "output_type": "stream",
     "text": [
      "3\n"
     ]
    }
   ],
   "source": [
    "print(7 // 2) # 7나누기 2의 몫"
   ]
  },
  {
   "cell_type": "code",
   "execution_count": 18,
   "id": "d63f6cec",
   "metadata": {},
   "outputs": [
    {
     "name": "stdout",
     "output_type": "stream",
     "text": [
      "2\n"
     ]
    }
   ],
   "source": [
    "a = 1\n",
    "a = a + 1\n",
    "print(a)"
   ]
  },
  {
   "cell_type": "code",
   "execution_count": 19,
   "id": "bad29205",
   "metadata": {},
   "outputs": [
    {
     "name": "stdout",
     "output_type": "stream",
     "text": [
      "3\n"
     ]
    }
   ],
   "source": [
    "a+=1\n",
    "print(a)"
   ]
  },
  {
   "cell_type": "code",
   "execution_count": 20,
   "id": "43370448",
   "metadata": {},
   "outputs": [
    {
     "name": "stdout",
     "output_type": "stream",
     "text": [
      "1\n"
     ]
    }
   ],
   "source": [
    "a = a - 1\n",
    "a -= 1\n",
    "print(a)"
   ]
  },
  {
   "cell_type": "markdown",
   "id": "a268d52c",
   "metadata": {},
   "source": [
    "### List type\n",
    "One example of <b>sequential type</b>."
   ]
  },
  {
   "cell_type": "code",
   "execution_count": 53,
   "id": "12e6a1bc",
   "metadata": {},
   "outputs": [],
   "source": [
    "colors = ['red','blue','green']"
   ]
  },
  {
   "cell_type": "markdown",
   "id": "9e3ca0da-1d70-4846-bb74-b8a4fa7ef151",
   "metadata": {},
   "source": [
    "#### Indexing"
   ]
  },
  {
   "cell_type": "code",
   "execution_count": 56,
   "id": "f4a4234f",
   "metadata": {},
   "outputs": [
    {
     "name": "stdout",
     "output_type": "stream",
     "text": [
      "red\n",
      "blue\n",
      "green\n",
      "blue\n",
      "3\n"
     ]
    }
   ],
   "source": [
    "print(colors[0])\n",
    "print(colors[1])\n",
    "print(colors[2])\n",
    "print(colors[-2])\n",
    "print(len(colors))"
   ]
  },
  {
   "cell_type": "markdown",
   "id": "ea6fe514",
   "metadata": {},
   "source": [
    "#### Slicing"
   ]
  },
  {
   "cell_type": "code",
   "execution_count": 25,
   "id": "b36cb05e",
   "metadata": {},
   "outputs": [
    {
     "name": "stdout",
     "output_type": "stream",
     "text": [
      "['서울', '부산', '인천', '대구', '대전', '광주']  AND  ['서울', '부산', '인천', '대구', '대전', '광주', '울산', '수원']\n",
      "['서울', '부산', '인천', '대구', '대전', '광주', '울산', '수원']\n",
      "['서울', '부산', '인천', '대구', '대전', '광주', '울산', '수원']\n",
      "['서울', '인천', '대전', '울산']  AND  ['수원', '울산', '광주', '대전', '대구', '인천', '부산', '서울']\n"
     ]
    }
   ],
   "source": [
    "cities = ['서울', '부산', '인천', '대구', '대전', '광주', '울산', '수원']\n",
    "print (cities[0:6], \" AND \",  cities[-8:]) # 번수의 0부터 5까지, -9부터 끝까지\n",
    "print (cities[:])# 변수의 처음부터 끝까지\n",
    "print (cities[-50:50])# 범위를 넘어갈 경우 자동으로 최대 범위를 지정\n",
    "print (cities[::2], \" AND \", cities[::-1]) # 2칸 단위로, 역으로 슬라이싱"
   ]
  },
  {
   "cell_type": "code",
   "execution_count": 26,
   "id": "38a948c6",
   "metadata": {},
   "outputs": [
    {
     "name": "stdout",
     "output_type": "stream",
     "text": [
      "['red', 'blue', 'green', 'orange', 'black', 'white']\n",
      "['yellow', 'blue', 'green', 'yellow', 'blue', 'green']\n"
     ]
    }
   ],
   "source": [
    "color2 = ['orange', 'black', 'white']\n",
    "print (colors + color2) # 두 리스트 합치기\n",
    "len(colors) # 리스트 길이\n",
    "colors[0] = 'yellow' # 0번째 리스트의 값을 변경\n",
    "print (colors * 2)# color 리스트 2회 반복\n",
    "'blue' in color2# 문자열 ‘blue‘가 color2 존재 여부 반환\n",
    "total_color = colors + color2"
   ]
  },
  {
   "cell_type": "markdown",
   "id": "d42c65ea",
   "metadata": {},
   "source": [
    "#### List Methods"
   ]
  },
  {
   "cell_type": "code",
   "execution_count": 27,
   "id": "82f75c50",
   "metadata": {},
   "outputs": [
    {
     "name": "stdout",
     "output_type": "stream",
     "text": [
      "['orange', 'yellow', 'blue', 'green', 'white', 'black', 'purple']\n"
     ]
    }
   ],
   "source": [
    "colors.append(\"white\")# 리스트에 “white” 추가\n",
    "colors.extend([\"black\",\"purple\"]) # 리스트에 새로운 리스트 추가\n",
    "colors.insert(0,\"orange\")# 0번째 주소에 “orange” 추가\n",
    "print (colors)"
   ]
  },
  {
   "cell_type": "code",
   "execution_count": 28,
   "id": "c05d7254",
   "metadata": {},
   "outputs": [
    {
     "name": "stdout",
     "output_type": "stream",
     "text": [
      "['yellow', 'blue', 'green', 'black', 'purple']\n"
     ]
    }
   ],
   "source": [
    "colors.remove(\"white\")# 리스트에 “white” 삭제\n",
    "del colors[0]# 0번째 주소 리스트 객체 삭제\n",
    "print (colors)"
   ]
  },
  {
   "cell_type": "code",
   "execution_count": 29,
   "id": "c7a62045",
   "metadata": {},
   "outputs": [
    {
     "name": "stdout",
     "output_type": "stream",
     "text": [
      "[['yellow', 'blue', 'green', 'black', 'purple'], 1, 0.2]\n"
     ]
    }
   ],
   "source": [
    "a = [\"color\", 1, 0.2]\n",
    "color = ['yellow', 'blue', 'green', 'black', 'purple']\n",
    "a[0] = color # 리스트 안에 리스트도 입력 가능\n",
    "print(a)"
   ]
  },
  {
   "cell_type": "markdown",
   "id": "c799a4fe",
   "metadata": {},
   "source": [
    "#### List and Memory"
   ]
  },
  {
   "cell_type": "code",
   "execution_count": 30,
   "id": "8d7f2582",
   "metadata": {},
   "outputs": [
    {
     "name": "stdout",
     "output_type": "stream",
     "text": [
      "[5, 4, 3, 2, 1]\n"
     ]
    }
   ],
   "source": [
    "a = [5, 4, 3, 2, 1]\n",
    "b = [1, 2, 3, 4, 5]\n",
    "b = a\n",
    "print(b)"
   ]
  },
  {
   "cell_type": "code",
   "execution_count": 45,
   "id": "03cc1348",
   "metadata": {},
   "outputs": [
    {
     "name": "stdout",
     "output_type": "stream",
     "text": [
      "[1, 2, 3, 4, 5]\n"
     ]
    }
   ],
   "source": [
    "a.sort()\n",
    "print(b) "
   ]
  },
  {
   "cell_type": "markdown",
   "id": "e7773c3d",
   "metadata": {},
   "source": [
    "\\<Quiz\\><br>\n",
    "위와 같은 현상은 리스트가 메모리에 접근하는 방식 때문에 발생한다고 배웠습니다. b = a 코드로 인해 a와 b가 정말로 같은 메모리를 참조하고 있는지 확인해봅시다."
   ]
  },
  {
   "cell_type": "code",
   "execution_count": 48,
   "id": "e3596c85",
   "metadata": {},
   "outputs": [
    {
     "name": "stdout",
     "output_type": "stream",
     "text": [
      "[1, 2, 3, 4, 5]\n"
     ]
    }
   ],
   "source": [
    "a = [5, 4, 3, 2, 1]\n",
    "b = [1, 2, 3, 4, 5]\n",
    "b = a\n",
    "a.sort()\n",
    "\n",
    "print(b) # your code"
   ]
  },
  {
   "cell_type": "markdown",
   "id": "4f34b801",
   "metadata": {},
   "source": [
    "\\<Quiz\\><br>\n",
    "b에 새로운 리스트를 할당한 이후에는 어떤 변화가 생기는지 살펴봅시다."
   ]
  },
  {
   "cell_type": "code",
   "execution_count": 49,
   "id": "28dadd79",
   "metadata": {},
   "outputs": [
    {
     "name": "stdout",
     "output_type": "stream",
     "text": [
      "[1, 2, 3, 4, 5] [6, 7, 8, 9, 10]\n"
     ]
    }
   ],
   "source": [
    "b = [6,7,8,9,10]\n",
    "print(a, b)\n",
    "print() # your code"
   ]
  },
  {
   "cell_type": "markdown",
   "id": "7f35f32f",
   "metadata": {},
   "source": [
    "#### Solution"
   ]
  },
  {
   "cell_type": "code",
   "execution_count": 50,
   "id": "f0a2ac07",
   "metadata": {},
   "outputs": [
    {
     "name": "stdout",
     "output_type": "stream",
     "text": [
      "[5, 4, 3, 2, 1]\n"
     ]
    }
   ],
   "source": [
    "a = [5, 4, 3, 2, 1]\n",
    "b = [1, 2, 3, 4, 5]\n",
    "b = a.copy() #copy\n",
    "print(b)"
   ]
  },
  {
   "cell_type": "markdown",
   "id": "71bee688",
   "metadata": {},
   "source": [
    "\\<Quiz\\><br>\n",
    "마지막으로, copy를 사용한 후에는 어떤 변화가 생기는지 살펴봅시다."
   ]
  },
  {
   "cell_type": "code",
   "execution_count": 51,
   "id": "0cd78279",
   "metadata": {},
   "outputs": [
    {
     "name": "stdout",
     "output_type": "stream",
     "text": [
      "[5, 4, 3, 2, 1]\n"
     ]
    }
   ],
   "source": [
    "a.sort()\n",
    "print(b) "
   ]
  },
  {
   "cell_type": "code",
   "execution_count": 52,
   "id": "a9aae159",
   "metadata": {},
   "outputs": [
    {
     "name": "stdout",
     "output_type": "stream",
     "text": []
    }
   ],
   "source": [
    "print() # your code"
   ]
  },
  {
   "cell_type": "markdown",
   "id": "c32f5611",
   "metadata": {},
   "source": [
    "#### Packing and Unpacking"
   ]
  },
  {
   "cell_type": "code",
   "execution_count": 53,
   "id": "1500b383",
   "metadata": {},
   "outputs": [
    {
     "name": "stdout",
     "output_type": "stream",
     "text": [
      "1\n"
     ]
    }
   ],
   "source": [
    "t = [1,2,3]\n",
    "a,b,c = t\n",
    "print(a)"
   ]
  },
  {
   "cell_type": "code",
   "execution_count": 124,
   "id": "20531126",
   "metadata": {},
   "outputs": [
    {
     "name": "stdout",
     "output_type": "stream",
     "text": [
      "2\n"
     ]
    }
   ],
   "source": [
    "print(b)"
   ]
  },
  {
   "cell_type": "markdown",
   "id": "98e3586b",
   "metadata": {},
   "source": [
    "#### 2D-list"
   ]
  },
  {
   "cell_type": "code",
   "execution_count": 121,
   "id": "d11ffcd1",
   "metadata": {},
   "outputs": [
    {
     "name": "stdout",
     "output_type": "stream",
     "text": [
      "20\n"
     ]
    }
   ],
   "source": [
    "kor_score = [49,79,20,100,80]\n",
    "math_score = [43,59,85,30, 90]\n",
    "eng_score = [49,79,48,60,100]\n",
    "midterm_score = [kor_score, math_score, eng_score]\n",
    "print (midterm_score[0][2])\n"
   ]
  },
  {
   "cell_type": "code",
   "execution_count": 122,
   "id": "495e55aa",
   "metadata": {},
   "outputs": [
    {
     "name": "stdout",
     "output_type": "stream",
     "text": [
      "[[49, 79, 20, 100, 80], [43, 59, 85, 30, 90], [49, 79, 48, 60, 100]]\n"
     ]
    }
   ],
   "source": [
    "print(midterm_score)"
   ]
  },
  {
   "cell_type": "markdown",
   "id": "4106c3b5",
   "metadata": {},
   "source": [
    "\\<Quiz\\><br>\n",
    "midterm_score에 저장된 이차원 리스트를 펼쳐서 세 개의 일차원 리스트 변수 list_1, list_2, list_3에 저장해봅시다. "
   ]
  },
  {
   "cell_type": "code",
   "execution_count": null,
   "id": "46d16d87",
   "metadata": {},
   "outputs": [],
   "source": [
    "#your code\n"
   ]
  },
  {
   "cell_type": "markdown",
   "id": "7ae6de23-c1d5-4339-b089-49f05f96f62b",
   "metadata": {},
   "source": [
    "### String type"
   ]
  },
  {
   "cell_type": "code",
   "execution_count": 57,
   "id": "1d94edba-9369-4187-87c4-874ce442cb25",
   "metadata": {},
   "outputs": [
    {
     "name": "stdout",
     "output_type": "stream",
     "text": [
      "50 51 52\n"
     ]
    }
   ],
   "source": [
    "import sys\n",
    "print (sys.getsizeof(\"a\"), sys.getsizeof(\"ab\"), sys.getsizeof(\"abc\")) "
   ]
  },
  {
   "cell_type": "markdown",
   "id": "51455509-8f97-4a30-8885-a8325772a596",
   "metadata": {},
   "source": [
    "#### Format"
   ]
  },
  {
   "cell_type": "code",
   "execution_count": null,
   "id": "6d349145",
   "metadata": {},
   "outputs": [],
   "source": [
    "str1 = \"Hello World\""
   ]
  },
  {
   "cell_type": "code",
   "execution_count": null,
   "id": "70e51f55",
   "metadata": {},
   "outputs": [],
   "source": [
    "str2 = 'Python is fun'"
   ]
  },
  {
   "cell_type": "code",
   "execution_count": null,
   "id": "382fd797",
   "metadata": {},
   "outputs": [],
   "source": [
    "str3 = \"\"\"Life is too short, You need python\"\"\""
   ]
  },
  {
   "cell_type": "code",
   "execution_count": null,
   "id": "613e11f0",
   "metadata": {},
   "outputs": [],
   "source": [
    "str4 = '''Life is too short, You need python'''"
   ]
  },
  {
   "cell_type": "code",
   "execution_count": 59,
   "id": "53c0a383-3153-476d-8b4a-8ac4c4dda47e",
   "metadata": {},
   "outputs": [
    {
     "name": "stdout",
     "output_type": "stream",
     "text": [
      "It's ok.\n"
     ]
    }
   ],
   "source": [
    "str5 = 'It\\'s ok.'\n",
    "print(str5)"
   ]
  },
  {
   "cell_type": "markdown",
   "id": "304be15e-2a56-4100-aeca-d4c875dbf046",
   "metadata": {},
   "source": [
    "#### Indexing and Slicing"
   ]
  },
  {
   "cell_type": "code",
   "execution_count": 56,
   "id": "165dec15",
   "metadata": {},
   "outputs": [
    {
     "name": "stdout",
     "output_type": "stream",
     "text": [
      "50 51 52\n"
     ]
    }
   ],
   "source": [
    "import sys\n",
    "print(sys.getsizeof(\"a\"), sys.getsizeof(\"ab\"), sys.getsizeof(\"abc\"))\n",
    "# “a”, “ab”, “abc”의 각 메모리 사이즈 출력"
   ]
  },
  {
   "cell_type": "code",
   "execution_count": 75,
   "id": "bcb5e506",
   "metadata": {},
   "outputs": [
    {
     "data": {
      "text/plain": [
       "('a', 'e')"
      ]
     },
     "execution_count": 75,
     "metadata": {},
     "output_type": "execute_result"
    }
   ],
   "source": [
    "a = \"abcde\"\n",
    "a[0], a[4] # indexing"
   ]
  },
  {
   "cell_type": "code",
   "execution_count": 76,
   "id": "843396c6",
   "metadata": {},
   "outputs": [
    {
     "name": "stdout",
     "output_type": "stream",
     "text": [
      "a e\n"
     ]
    }
   ],
   "source": [
    "print(a[0], a[4])"
   ]
  },
  {
   "cell_type": "code",
   "execution_count": 58,
   "id": "a9c3c4ee",
   "metadata": {
    "scrolled": true
   },
   "outputs": [
    {
     "name": "stdout",
     "output_type": "stream",
     "text": [
      "1 5\n"
     ]
    }
   ],
   "source": [
    "print(a[-1], a[-5])"
   ]
  },
  {
   "cell_type": "code",
   "execution_count": 2,
   "id": "074f2f48",
   "metadata": {
    "ExecuteTime": {
     "end_time": "2024-03-23T07:43:16.164974800Z",
     "start_time": "2024-03-23T07:43:16.046945900Z"
    }
   },
   "outputs": [
    {
     "name": "stdout",
     "output_type": "stream",
     "text": [
      "Korea and Technology\n"
     ]
    }
   ],
   "source": [
    "school = \"Korea Advanced Institute of Science and Technology\"\n",
    "print(school[0:5], \"and\", school[-10:]) # slicing"
   ]
  },
  {
   "cell_type": "code",
   "execution_count": 60,
   "id": "30e99c85",
   "metadata": {},
   "outputs": [
    {
     "name": "stdout",
     "output_type": "stream",
     "text": [
      "Korea Korea\n"
     ]
    }
   ],
   "source": [
    "print(school[0:5], school[:5])"
   ]
  },
  {
   "cell_type": "code",
   "execution_count": 83,
   "id": "446d5123",
   "metadata": {},
   "outputs": [
    {
     "name": "stdout",
     "output_type": "stream",
     "text": [
      "Advanced\n"
     ]
    }
   ],
   "source": [
    "print(school[6:14])"
   ]
  },
  {
   "cell_type": "code",
   "execution_count": 64,
   "id": "7f504375",
   "metadata": {},
   "outputs": [
    {
     "name": "stdout",
     "output_type": "stream",
     "text": [
      "Korea Advanced Institute of Science and Technology\n"
     ]
    }
   ],
   "source": [
    "print(school[:])"
   ]
  },
  {
   "cell_type": "code",
   "execution_count": 65,
   "id": "d3d4abe5",
   "metadata": {},
   "outputs": [
    {
     "name": "stdout",
     "output_type": "stream",
     "text": [
      "Korea Advanced Institute of Science and Technology\n"
     ]
    }
   ],
   "source": [
    "print(school[-50:100])"
   ]
  },
  {
   "cell_type": "code",
   "execution_count": 85,
   "id": "1ebc68af",
   "metadata": {},
   "outputs": [
    {
     "name": "stdout",
     "output_type": "stream",
     "text": [
      "Korea Advanced Institute of Science and Technology\n"
     ]
    }
   ],
   "source": [
    "print(school[::1])"
   ]
  },
  {
   "cell_type": "code",
   "execution_count": 66,
   "id": "e385488a",
   "metadata": {},
   "outputs": [
    {
     "name": "stdout",
     "output_type": "stream",
     "text": [
      "KraAvne nttt fSineadTcnlg\n"
     ]
    }
   ],
   "source": [
    "print(school[::2])"
   ]
  },
  {
   "cell_type": "code",
   "execution_count": 67,
   "id": "6ff0e57b",
   "metadata": {},
   "outputs": [
    {
     "name": "stdout",
     "output_type": "stream",
     "text": [
      "ygolonhceT dna ecneicS fo etutitsnI decnavdA aeroK\n"
     ]
    }
   ],
   "source": [
    "print(school[::-1])"
   ]
  },
  {
   "cell_type": "code",
   "execution_count": 86,
   "id": "2875b060",
   "metadata": {},
   "outputs": [
    {
     "name": "stdout",
     "output_type": "stream",
     "text": [
      "yoohe n cec oeuisIdcad eo\n"
     ]
    }
   ],
   "source": [
    "print(school[::-2])"
   ]
  },
  {
   "cell_type": "markdown",
   "id": "2563e626-67d9-4a4a-8929-39e9383a0b20",
   "metadata": {},
   "source": [
    "\\<Quiz\\><br> \n",
    "print(school[pos_idx:neg_idx]) 형식의 슬라이싱을 활용하여 Science 문자열을 출력하고자 합니다. a는 양수, b는 음수라면 a와 b에 들어갈 숫자는 무엇일까요?"
   ]
  },
  {
   "cell_type": "code",
   "execution_count": 4,
   "id": "491801e2",
   "metadata": {
    "ExecuteTime": {
     "end_time": "2024-03-23T07:45:10.327014900Z",
     "start_time": "2024-03-23T07:45:10.105000700Z"
    }
   },
   "outputs": [
    {
     "name": "stdout",
     "output_type": "stream",
     "text": [
      "Science\n"
     ]
    }
   ],
   "source": [
    "pos_idx = 99 # your code\n",
    "neg_idx = 99 # your code\n",
    "print(school[28:-15])"
   ]
  },
  {
   "cell_type": "markdown",
   "id": "396f3f1d-6197-4a4c-bc49-89936d4e488f",
   "metadata": {},
   "source": [
    "#### String Operation"
   ]
  },
  {
   "cell_type": "code",
   "execution_count": 61,
   "id": "290c6713",
   "metadata": {},
   "outputs": [
    {
     "data": {
      "text/plain": [
       "'Python is fun!'"
      ]
     },
     "execution_count": 61,
     "metadata": {},
     "output_type": "execute_result"
    }
   ],
   "source": [
    "head = \"Python\"\n",
    "tail = \" is fun!\"\n",
    "head + tail\n",
    "'Python is fun!'"
   ]
  },
  {
   "cell_type": "code",
   "execution_count": 64,
   "id": "7215ce05",
   "metadata": {},
   "outputs": [
    {
     "name": "stdout",
     "output_type": "stream",
     "text": [
      "KAIST\n"
     ]
    }
   ],
   "source": [
    "a = \"KAIST\"\n",
    "a * 2\n",
    "\n",
    "if 'A' in a:\n",
    "    print(a)\n",
    "else:\n",
    "    print(\"nope\")\n"
   ]
  },
  {
   "cell_type": "markdown",
   "id": "79782e57-c52e-4843-9a12-e5b79f13ef74",
   "metadata": {},
   "source": [
    "#### String Methods"
   ]
  },
  {
   "cell_type": "code",
   "execution_count": 65,
   "id": "aa2f8f32",
   "metadata": {},
   "outputs": [
    {
     "data": {
      "text/plain": [
       "True"
      ]
     },
     "execution_count": 65,
     "metadata": {},
     "output_type": "execute_result"
    }
   ],
   "source": [
    "intro_ts = \"Hi, my name is Jiyeon Seo. I'm majoring in finance\"\n",
    "major_lo = 'finance'\n",
    "major_cap = 'Finance'\n",
    "major_lo in intro_ts"
   ]
  },
  {
   "cell_type": "code",
   "execution_count": 66,
   "id": "8e347266",
   "metadata": {},
   "outputs": [
    {
     "data": {
      "text/plain": [
       "False"
      ]
     },
     "execution_count": 66,
     "metadata": {},
     "output_type": "execute_result"
    }
   ],
   "source": [
    "major_cap in intro_ts"
   ]
  },
  {
   "cell_type": "code",
   "execution_count": 67,
   "id": "ee3c2212",
   "metadata": {},
   "outputs": [
    {
     "data": {
      "text/plain": [
       "7"
      ]
     },
     "execution_count": 67,
     "metadata": {},
     "output_type": "execute_result"
    }
   ],
   "source": [
    "len(major_cap) # length"
   ]
  },
  {
   "cell_type": "code",
   "execution_count": 68,
   "id": "0761f3df",
   "metadata": {},
   "outputs": [
    {
     "data": {
      "text/plain": [
       "'Finance'"
      ]
     },
     "execution_count": 68,
     "metadata": {},
     "output_type": "execute_result"
    }
   ],
   "source": [
    "major_lo.capitalize()"
   ]
  },
  {
   "cell_type": "code",
   "execution_count": 69,
   "id": "9920782e",
   "metadata": {},
   "outputs": [
    {
     "data": {
      "text/plain": [
       "'FINANCE'"
      ]
     },
     "execution_count": 69,
     "metadata": {},
     "output_type": "execute_result"
    }
   ],
   "source": [
    "major_lo.upper()"
   ]
  },
  {
   "cell_type": "code",
   "execution_count": 70,
   "id": "6a1c6acc",
   "metadata": {},
   "outputs": [
    {
     "data": {
      "text/plain": [
       "'finance'"
      ]
     },
     "execution_count": 70,
     "metadata": {},
     "output_type": "execute_result"
    }
   ],
   "source": [
    "major_cap.lower()"
   ]
  },
  {
   "cell_type": "code",
   "execution_count": 71,
   "id": "5495fbb2",
   "metadata": {},
   "outputs": [
    {
     "data": {
      "text/plain": [
       "43"
      ]
     },
     "execution_count": 71,
     "metadata": {},
     "output_type": "execute_result"
    }
   ],
   "source": [
    "intro_ts.find('finance')"
   ]
  },
  {
   "cell_type": "code",
   "execution_count": 72,
   "id": "0aec77ad",
   "metadata": {},
   "outputs": [
    {
     "data": {
      "text/plain": [
       "'f'"
      ]
     },
     "execution_count": 72,
     "metadata": {},
     "output_type": "execute_result"
    }
   ],
   "source": [
    "intro_ts[43]"
   ]
  },
  {
   "cell_type": "code",
   "execution_count": 73,
   "id": "582cb85e",
   "metadata": {},
   "outputs": [
    {
     "data": {
      "text/plain": [
       "['Hi,',\n",
       " 'my',\n",
       " 'name',\n",
       " 'is',\n",
       " 'Jiyeon',\n",
       " 'Seo.',\n",
       " \"I'm\",\n",
       " 'majoring',\n",
       " 'in',\n",
       " 'finance']"
      ]
     },
     "execution_count": 73,
     "metadata": {},
     "output_type": "execute_result"
    }
   ],
   "source": [
    "intro_ts.split(' ')"
   ]
  },
  {
   "cell_type": "code",
   "execution_count": 74,
   "id": "73aef051",
   "metadata": {},
   "outputs": [
    {
     "data": {
      "text/plain": [
       "\"Hi, My Name Is Jiyeon Seo. I'M Majoring In Finance\""
      ]
     },
     "execution_count": 74,
     "metadata": {},
     "output_type": "execute_result"
    }
   ],
   "source": [
    "intro_ts.title()"
   ]
  },
  {
   "cell_type": "code",
   "execution_count": 75,
   "id": "7a2daa1f",
   "metadata": {},
   "outputs": [
    {
     "data": {
      "text/plain": [
       "True"
      ]
     },
     "execution_count": 75,
     "metadata": {},
     "output_type": "execute_result"
    }
   ],
   "source": [
    "digit_str = '123'\n",
    "digit_str.isdigit()"
   ]
  },
  {
   "cell_type": "code",
   "execution_count": 76,
   "id": "c523dd0f",
   "metadata": {},
   "outputs": [
    {
     "data": {
      "text/plain": [
       "False"
      ]
     },
     "execution_count": 76,
     "metadata": {},
     "output_type": "execute_result"
    }
   ],
   "source": [
    "digit_str.islower()"
   ]
  },
  {
   "cell_type": "code",
   "execution_count": 77,
   "id": "8054e948",
   "metadata": {},
   "outputs": [
    {
     "data": {
      "text/plain": [
       "True"
      ]
     },
     "execution_count": 77,
     "metadata": {},
     "output_type": "execute_result"
    }
   ],
   "source": [
    "major_lo.islower()"
   ]
  },
  {
   "cell_type": "markdown",
   "id": "a68b9430",
   "metadata": {},
   "source": [
    "### Tuple Type"
   ]
  },
  {
   "cell_type": "code",
   "execution_count": 82,
   "id": "b9fd1daa-a1f0-4732-8d91-9b9e31b01d73",
   "metadata": {},
   "outputs": [
    {
     "name": "stdout",
     "output_type": "stream",
     "text": [
      "(1, 2, 3, 1, 2, 3) (1, 2, 3, 1, 2, 3)\n"
     ]
    },
    {
     "data": {
      "text/plain": [
       "3"
      ]
     },
     "execution_count": 82,
     "metadata": {},
     "output_type": "execute_result"
    }
   ],
   "source": [
    "t = (1,2,3)\n",
    "print(t+t,t*2)\n",
    "len(t)"
   ]
  },
  {
   "cell_type": "code",
   "execution_count": 78,
   "id": "408018b7",
   "metadata": {},
   "outputs": [],
   "source": [
    "list_example = [4, 8, 6, 'password']\n",
    "tuple_example = (4, 8, 6, 'password')"
   ]
  },
  {
   "cell_type": "code",
   "execution_count": 79,
   "id": "6b64469a",
   "metadata": {},
   "outputs": [
    {
     "data": {
      "text/plain": [
       "[9, 8, 6, 'password']"
      ]
     },
     "execution_count": 79,
     "metadata": {},
     "output_type": "execute_result"
    }
   ],
   "source": [
    "list_example[0] = 9\n",
    "list_example"
   ]
  },
  {
   "cell_type": "code",
   "execution_count": 80,
   "id": "47761d1b",
   "metadata": {
    "scrolled": true
   },
   "outputs": [
    {
     "ename": "TypeError",
     "evalue": "'tuple' object does not support item assignment",
     "output_type": "error",
     "traceback": [
      "\u001B[1;31m---------------------------------------------------------------------------\u001B[0m",
      "\u001B[1;31mTypeError\u001B[0m                                 Traceback (most recent call last)",
      "Cell \u001B[1;32mIn[80], line 1\u001B[0m\n\u001B[1;32m----> 1\u001B[0m \u001B[43mtuple_example\u001B[49m\u001B[43m[\u001B[49m\u001B[38;5;241;43m0\u001B[39;49m\u001B[43m]\u001B[49m \u001B[38;5;241m=\u001B[39m \u001B[38;5;241m9\u001B[39m\n",
      "\u001B[1;31mTypeError\u001B[0m: 'tuple' object does not support item assignment"
     ]
    }
   ],
   "source": [
    "tuple_example[0] = 9"
   ]
  },
  {
   "cell_type": "code",
   "execution_count": 85,
   "id": "80d41c74-a05f-4bb4-b751-22c6f8788de9",
   "metadata": {},
   "outputs": [
    {
     "name": "stdout",
     "output_type": "stream",
     "text": [
      "<class 'int'>\n",
      "<class 'tuple'>\n"
     ]
    }
   ],
   "source": [
    "t = (1)\n",
    "print(type(t))\n",
    "t = (1,)\n",
    "print(type(t))"
   ]
  },
  {
   "cell_type": "markdown",
   "id": "ceebec3c-de23-403f-bbce-427217639a85",
   "metadata": {},
   "source": [
    "### Set Type"
   ]
  },
  {
   "cell_type": "code",
   "execution_count": 61,
   "id": "35596d5c",
   "metadata": {},
   "outputs": [
    {
     "data": {
      "text/plain": [
       "{1, 2, 3}"
      ]
     },
     "execution_count": 61,
     "metadata": {},
     "output_type": "execute_result"
    }
   ],
   "source": [
    "# 집합의 표현\n",
    "s1 = set([1, 2, 3])\n",
    "s1"
   ]
  },
  {
   "cell_type": "code",
   "execution_count": 62,
   "id": "2ee407c5",
   "metadata": {},
   "outputs": [
    {
     "data": {
      "text/plain": [
       "{'H', 'e', 'l', 'o'}"
      ]
     },
     "execution_count": 62,
     "metadata": {},
     "output_type": "execute_result"
    }
   ],
   "source": [
    "s2 = set('Hello')\n",
    "s2 "
   ]
  },
  {
   "cell_type": "code",
   "execution_count": 63,
   "id": "e31cb1c7",
   "metadata": {},
   "outputs": [
    {
     "data": {
      "text/plain": [
       "1"
      ]
     },
     "execution_count": 63,
     "metadata": {},
     "output_type": "execute_result"
    }
   ],
   "source": [
    "# 집합의 값을 인덱싱으로 접근\n",
    "s1 = set([1, 2, 3])\n",
    "l1 = list(s1) # [1, 2, 3]\n",
    "l1[0]"
   ]
  },
  {
   "cell_type": "code",
   "execution_count": 64,
   "id": "53cc1861",
   "metadata": {},
   "outputs": [
    {
     "data": {
      "text/plain": [
       "1"
      ]
     },
     "execution_count": 64,
     "metadata": {},
     "output_type": "execute_result"
    }
   ],
   "source": [
    "l1 = tuple(s1)\n",
    "l1 # (1, 2, 3)\n",
    "l1[0] # 1"
   ]
  },
  {
   "cell_type": "code",
   "execution_count": 71,
   "id": "307055c3",
   "metadata": {},
   "outputs": [
    {
     "data": {
      "text/plain": [
       "{1, 2, 3, 4}"
      ]
     },
     "execution_count": 71,
     "metadata": {},
     "output_type": "execute_result"
    }
   ],
   "source": [
    "# 값 1개 추가하기\n",
    "s1 = set([1, 2, 3])\n",
    "s1.add(4)\n",
    "s1 # { 1, 2, 3, 4 }"
   ]
  },
  {
   "cell_type": "code",
   "execution_count": 72,
   "id": "bc38fdb8",
   "metadata": {},
   "outputs": [
    {
     "data": {
      "text/plain": [
       "{1, 2, 3, 4}"
      ]
     },
     "execution_count": 72,
     "metadata": {},
     "output_type": "execute_result"
    }
   ],
   "source": [
    "s1.add(1)\n",
    "s1"
   ]
  },
  {
   "cell_type": "code",
   "execution_count": 168,
   "id": "8a6f4634",
   "metadata": {},
   "outputs": [
    {
     "data": {
      "text/plain": [
       "{1, 2, 3, 4, 5, 6}"
      ]
     },
     "execution_count": 168,
     "metadata": {},
     "output_type": "execute_result"
    }
   ],
   "source": [
    "# 값 여러 개 추가하기\n",
    "s1 = set([1, 2, 3])\n",
    "s1.update([4, 5, 6])\n",
    "s1 # { 1, 2, 3, 4, 5, 6 }"
   ]
  },
  {
   "cell_type": "code",
   "execution_count": 169,
   "id": "2b59c95e",
   "metadata": {
    "scrolled": true
   },
   "outputs": [
    {
     "data": {
      "text/plain": [
       "{1, 3}"
      ]
     },
     "execution_count": 169,
     "metadata": {},
     "output_type": "execute_result"
    }
   ],
   "source": [
    "# 특정 값 제거하기\n",
    "s1 = set([1, 2, 3])\n",
    "s1.remove(2)\n",
    "s1 "
   ]
  },
  {
   "cell_type": "code",
   "execution_count": 65,
   "id": "cb6c0145",
   "metadata": {},
   "outputs": [],
   "source": [
    "# 집합 자료형의 활용\n",
    "s1 = set([1, 2, 3, 4, 5, 6])\n",
    "s2 = set([4, 5, 6, 7, 8, 9])"
   ]
  },
  {
   "cell_type": "code",
   "execution_count": 66,
   "id": "4a95118a",
   "metadata": {},
   "outputs": [
    {
     "name": "stdout",
     "output_type": "stream",
     "text": [
      "{4, 5, 6}\n",
      "{4, 5, 6}\n"
     ]
    }
   ],
   "source": [
    "# 교집합\n",
    "print(s1 & s2)\n",
    "print(s1.intersection(s2))"
   ]
  },
  {
   "cell_type": "code",
   "execution_count": 67,
   "id": "65ef49e9",
   "metadata": {},
   "outputs": [
    {
     "name": "stdout",
     "output_type": "stream",
     "text": [
      "{1, 2, 3, 4, 5, 6, 7, 8, 9}\n",
      "{1, 2, 3, 4, 5, 6, 7, 8, 9}\n"
     ]
    }
   ],
   "source": [
    "# 합집합\n",
    "print(s1 | s2) # { 1, 2, 3, 4, 5, 6, 7, 8, 9 }\n",
    "print(s1.union(s2)) # { 1, 2, 3, 4, 5, 6, 7, 8, 9 }"
   ]
  },
  {
   "cell_type": "code",
   "execution_count": 68,
   "id": "20ff20d3",
   "metadata": {},
   "outputs": [
    {
     "name": "stdout",
     "output_type": "stream",
     "text": [
      "{1, 2, 3}\n",
      "{8, 9, 7}\n",
      "{1, 2, 3}\n",
      "{8, 9, 7}\n"
     ]
    }
   ],
   "source": [
    "# 차집합\n",
    "print(s1 - s2) # { 1, 2, 3 }\n",
    "print(s2 - s1) # { 8, 9, 7 }\n",
    "print(s1.difference(s2)) # { 1, 2, 3 }\n",
    "print(s2.difference(s1)) # { 8, 9, 7 }"
   ]
  },
  {
   "cell_type": "markdown",
   "id": "172dbca7",
   "metadata": {},
   "source": [
    "### Dictionary Type"
   ]
  },
  {
   "cell_type": "code",
   "execution_count": 74,
   "id": "f4403d02",
   "metadata": {},
   "outputs": [
    {
     "name": "stdout",
     "output_type": "stream",
     "text": [
      "{'name': 'pey', 'phone': '0119993323', 'birth': '1118'}\n"
     ]
    }
   ],
   "source": [
    "# 딕셔너리\n",
    "# 딕셔녀리의 표현: {key1: value1, key2: value2, ...}\n",
    "dic = { 'name' : 'pey', 'phone' : '0119993323', 'birth' : '1118' }\n",
    "print(dic)"
   ]
  },
  {
   "cell_type": "code",
   "execution_count": 75,
   "id": "be0e915b",
   "metadata": {},
   "outputs": [],
   "source": [
    "a = { 1 : 'hi' } # Key : 1, Value : 'hi'\n",
    "a = { 'a' : [1, 2, 3] } # Key : 'a', Value : [1, 2, 3]"
   ]
  },
  {
   "cell_type": "code",
   "execution_count": 76,
   "id": "d9ef1202",
   "metadata": {},
   "outputs": [
    {
     "data": {
      "text/plain": [
       "{1: 'a', 2: 'b'}"
      ]
     },
     "execution_count": 76,
     "metadata": {},
     "output_type": "execute_result"
    }
   ],
   "source": [
    "# 딕셔너리 쌍 추가하기\n",
    "a = { 1 : 'a' }\n",
    "a[2] = 'b'\n",
    "a "
   ]
  },
  {
   "cell_type": "code",
   "execution_count": 77,
   "id": "0c641e56",
   "metadata": {},
   "outputs": [
    {
     "data": {
      "text/plain": [
       "{1: 'a', 2: 'b', 'name': 'pey'}"
      ]
     },
     "execution_count": 77,
     "metadata": {},
     "output_type": "execute_result"
    }
   ],
   "source": [
    "a['name'] = 'pey'\n",
    "a "
   ]
  },
  {
   "cell_type": "code",
   "execution_count": 78,
   "id": "2ce9cd62",
   "metadata": {},
   "outputs": [
    {
     "data": {
      "text/plain": [
       "{1: 'a', 2: 'b', 'name': 'pey', 3: [1, 2, 3]}"
      ]
     },
     "execution_count": 78,
     "metadata": {},
     "output_type": "execute_result"
    }
   ],
   "source": [
    "a[3] = [1, 2, 3]\n",
    "a "
   ]
  },
  {
   "cell_type": "code",
   "execution_count": 79,
   "id": "ef0c006f",
   "metadata": {},
   "outputs": [
    {
     "data": {
      "text/plain": [
       "{2: 'b', 'name': 'pey', 3: [1, 2, 3]}"
      ]
     },
     "execution_count": 79,
     "metadata": {},
     "output_type": "execute_result"
    }
   ],
   "source": [
    "# 딕셔너리 요소 삭제하기\n",
    "del a[1]\n",
    "a "
   ]
  },
  {
   "cell_type": "code",
   "execution_count": 80,
   "id": "2defa819",
   "metadata": {},
   "outputs": [
    {
     "data": {
      "text/plain": [
       "'a'"
      ]
     },
     "execution_count": 80,
     "metadata": {},
     "output_type": "execute_result"
    }
   ],
   "source": [
    "# 딕셔너리에서 Key 사용해 Value 얻기\n",
    "grade = { 'pey' : 10, 'julliet' : 99 }\n",
    "grade['pey'] # 10\n",
    "grade['julliet'] # 99\n",
    "a = { 1 : 'a', 2 : 'b' }\n",
    "a[1] # 'a'"
   ]
  },
  {
   "cell_type": "code",
   "execution_count": 81,
   "id": "f43992a2",
   "metadata": {},
   "outputs": [
    {
     "data": {
      "text/plain": [
       "'b'"
      ]
     },
     "execution_count": 81,
     "metadata": {},
     "output_type": "execute_result"
    }
   ],
   "source": [
    "a[2] # 'b'"
   ]
  },
  {
   "cell_type": "code",
   "execution_count": 82,
   "id": "ae997de0",
   "metadata": {},
   "outputs": [
    {
     "name": "stdout",
     "output_type": "stream",
     "text": [
      "1\n",
      "2\n"
     ]
    }
   ],
   "source": [
    "a = { 'a' : 1, 'b' : 2 }\n",
    "print(a['a']) # 1\n",
    "print(a['b']) # 2"
   ]
  },
  {
   "cell_type": "code",
   "execution_count": 83,
   "id": "ffa518ba",
   "metadata": {},
   "outputs": [
    {
     "name": "stdout",
     "output_type": "stream",
     "text": [
      "pey\n",
      "0119993323\n",
      "1118\n"
     ]
    }
   ],
   "source": [
    "dic = { 'name' : 'pey', 'phone' : '0119993323', 'birth' : '1118' }\n",
    "print(dic['name']) # 'pey'\n",
    "print(dic['phone']) # '0119993323'\n",
    "print(dic['birth']) # '1118'"
   ]
  },
  {
   "cell_type": "code",
   "execution_count": 84,
   "id": "d9707e4a",
   "metadata": {},
   "outputs": [
    {
     "data": {
      "text/plain": [
       "{1: 'b'}"
      ]
     },
     "execution_count": 84,
     "metadata": {},
     "output_type": "execute_result"
    }
   ],
   "source": [
    "# 딕셔너리 만들 때 주의할 사항\n",
    "a = { 1 : 'a', 1 : 'b' }\n",
    "a # { 1 : 'b' } 동일한 Key는 사용할 수 없음\n",
    "# a = { [1, 2] : 'hi' } 변하는 값은 Key로 사용할 수 없음"
   ]
  },
  {
   "cell_type": "code",
   "execution_count": 85,
   "id": "1a943067",
   "metadata": {},
   "outputs": [
    {
     "data": {
      "text/plain": [
       "dict_keys(['name', 'phone', 'birth'])"
      ]
     },
     "execution_count": 85,
     "metadata": {},
     "output_type": "execute_result"
    }
   ],
   "source": [
    "# Key 리스트 만들기\n",
    "a = { 'name' : 'pey', 'phone' : '0119993323', 'birth' : '1118' }\n",
    "a.keys() # dic_keys(['name', 'phone', 'birth'])"
   ]
  },
  {
   "cell_type": "code",
   "execution_count": 86,
   "id": "fd110b20",
   "metadata": {},
   "outputs": [
    {
     "data": {
      "text/plain": [
       "['name', 'phone', 'birth']"
      ]
     },
     "execution_count": 86,
     "metadata": {},
     "output_type": "execute_result"
    }
   ],
   "source": [
    "# dict_keys 객체를 리스트로 반환\n",
    "list(a.keys()) "
   ]
  },
  {
   "cell_type": "code",
   "execution_count": 87,
   "id": "e4a96a42",
   "metadata": {},
   "outputs": [
    {
     "data": {
      "text/plain": [
       "dict_values(['pey', '0119993323', '1118'])"
      ]
     },
     "execution_count": 87,
     "metadata": {},
     "output_type": "execute_result"
    }
   ],
   "source": [
    "# Value 리스트 만들기\n",
    "a.values() "
   ]
  },
  {
   "cell_type": "code",
   "execution_count": 88,
   "id": "2788c446",
   "metadata": {},
   "outputs": [
    {
     "data": {
      "text/plain": [
       "dict_items([('name', 'pey'), ('phone', '0119993323'), ('birth', '1118')])"
      ]
     },
     "execution_count": 88,
     "metadata": {},
     "output_type": "execute_result"
    }
   ],
   "source": [
    "# Key, Value 쌍 얻기\n",
    "a.items() "
   ]
  },
  {
   "cell_type": "code",
   "execution_count": 89,
   "id": "884f6bf3",
   "metadata": {},
   "outputs": [
    {
     "data": {
      "text/plain": [
       "{}"
      ]
     },
     "execution_count": 89,
     "metadata": {},
     "output_type": "execute_result"
    }
   ],
   "source": [
    "# Key, Value 쌍 모두 지우기\n",
    "a.clear()\n",
    "a # ()"
   ]
  },
  {
   "cell_type": "code",
   "execution_count": 90,
   "id": "f386d669",
   "metadata": {},
   "outputs": [],
   "source": [
    "# Key로 Value 얻기\n",
    "a = { 'name' : 'pey', 'phone' : '0119993323', 'birth' : '1118' }"
   ]
  },
  {
   "cell_type": "code",
   "execution_count": 91,
   "id": "5dbaeb28",
   "metadata": {},
   "outputs": [
    {
     "data": {
      "text/plain": [
       "'pey'"
      ]
     },
     "execution_count": 91,
     "metadata": {},
     "output_type": "execute_result"
    }
   ],
   "source": [
    "a.get('name') # 'pey'"
   ]
  },
  {
   "cell_type": "code",
   "execution_count": 92,
   "id": "d7953d1c",
   "metadata": {},
   "outputs": [
    {
     "data": {
      "text/plain": [
       "'0119993323'"
      ]
     },
     "execution_count": 92,
     "metadata": {},
     "output_type": "execute_result"
    }
   ],
   "source": [
    "a.get('phone') # '0119993323'"
   ]
  },
  {
   "cell_type": "code",
   "execution_count": 93,
   "id": "243a63e7",
   "metadata": {},
   "outputs": [],
   "source": [
    "a.get('nokey') # None"
   ]
  },
  {
   "cell_type": "code",
   "execution_count": 94,
   "id": "7511c647",
   "metadata": {},
   "outputs": [
    {
     "ename": "KeyError",
     "evalue": "'nokey'",
     "output_type": "error",
     "traceback": [
      "\u001B[1;31m---------------------------------------------------------------------------\u001B[0m",
      "\u001B[1;31mKeyError\u001B[0m                                  Traceback (most recent call last)",
      "Cell \u001B[1;32mIn[94], line 1\u001B[0m\n\u001B[1;32m----> 1\u001B[0m \u001B[43ma\u001B[49m\u001B[43m[\u001B[49m\u001B[38;5;124;43m'\u001B[39;49m\u001B[38;5;124;43mnokey\u001B[39;49m\u001B[38;5;124;43m'\u001B[39;49m\u001B[43m]\u001B[49m \u001B[38;5;66;03m#Error\u001B[39;00m\n",
      "\u001B[1;31mKeyError\u001B[0m: 'nokey'"
     ]
    }
   ],
   "source": [
    "a['nokey'] #Error"
   ]
  },
  {
   "cell_type": "code",
   "execution_count": 158,
   "id": "aefd3872",
   "metadata": {},
   "outputs": [
    {
     "data": {
      "text/plain": [
       "'bar'"
      ]
     },
     "execution_count": 158,
     "metadata": {},
     "output_type": "execute_result"
    }
   ],
   "source": [
    "a.get('foo', 'bar') # default값인 'bar' 반환"
   ]
  },
  {
   "cell_type": "code",
   "execution_count": null,
   "id": "a3df0713",
   "metadata": {},
   "outputs": [],
   "source": [
    "# Key가 딕셔너리 안에 있는지 조사하기\n",
    "a = { 'name' : 'pey', 'phone' : '0119993323', 'birth' : '1118' }\n",
    "'name' in a # True"
   ]
  },
  {
   "cell_type": "code",
   "execution_count": 159,
   "id": "f814f393",
   "metadata": {
    "scrolled": true
   },
   "outputs": [
    {
     "data": {
      "text/plain": [
       "False"
      ]
     },
     "execution_count": 159,
     "metadata": {},
     "output_type": "execute_result"
    }
   ],
   "source": [
    "'email' in a # False"
   ]
  },
  {
   "cell_type": "markdown",
   "id": "b3a0b782-a29a-4359-8307-7229cc06500e",
   "metadata": {},
   "source": [
    "### Boolean Type"
   ]
  },
  {
   "cell_type": "markdown",
   "id": "03725285-0dd2-4c14-991c-2fe1c640cdca",
   "metadata": {},
   "source": [
    "진실 혹은 거짓"
   ]
  },
  {
   "cell_type": "code",
   "execution_count": 15,
   "id": "30196f04",
   "metadata": {},
   "outputs": [
    {
     "name": "stdout",
     "output_type": "stream",
     "text": [
      "True False\n"
     ]
    }
   ],
   "source": [
    "a=True # Boolean\n",
    "b=False # true or false (X)\n",
    "print(a, b)"
   ]
  },
  {
   "cell_type": "code",
   "execution_count": 177,
   "id": "fe39e0c8",
   "metadata": {},
   "outputs": [
    {
     "data": {
      "text/plain": [
       "True"
      ]
     },
     "execution_count": 177,
     "metadata": {},
     "output_type": "execute_result"
    }
   ],
   "source": [
    "'abc' in 'abcde'"
   ]
  },
  {
   "cell_type": "code",
   "execution_count": 178,
   "id": "a9200cb3",
   "metadata": {},
   "outputs": [
    {
     "data": {
      "text/plain": [
       "False"
      ]
     },
     "execution_count": 178,
     "metadata": {},
     "output_type": "execute_result"
    }
   ],
   "source": [
    "'cdef' in 'abcde'"
   ]
  },
  {
   "cell_type": "code",
   "execution_count": 179,
   "id": "8e0d3832",
   "metadata": {},
   "outputs": [
    {
     "data": {
      "text/plain": [
       "False"
      ]
     },
     "execution_count": 179,
     "metadata": {},
     "output_type": "execute_result"
    }
   ],
   "source": [
    "12 ==13"
   ]
  },
  {
   "cell_type": "code",
   "execution_count": 183,
   "id": "6fd8aed2",
   "metadata": {},
   "outputs": [
    {
     "data": {
      "text/plain": [
       "True"
      ]
     },
     "execution_count": 183,
     "metadata": {},
     "output_type": "execute_result"
    }
   ],
   "source": [
    "12 < 13"
   ]
  },
  {
   "cell_type": "code",
   "execution_count": 180,
   "id": "694fc8ff",
   "metadata": {},
   "outputs": [
    {
     "data": {
      "text/plain": [
       "True"
      ]
     },
     "execution_count": 180,
     "metadata": {},
     "output_type": "execute_result"
    }
   ],
   "source": [
    "12 == 12"
   ]
  },
  {
   "cell_type": "code",
   "execution_count": 181,
   "id": "c5ffa63c",
   "metadata": {},
   "outputs": [
    {
     "data": {
      "text/plain": [
       "True"
      ]
     },
     "execution_count": 181,
     "metadata": {},
     "output_type": "execute_result"
    }
   ],
   "source": [
    "13+15 == 28"
   ]
  },
  {
   "cell_type": "code",
   "execution_count": 60,
   "id": "153d3431",
   "metadata": {},
   "outputs": [
    {
     "data": {
      "text/plain": [
       "True"
      ]
     },
     "execution_count": 60,
     "metadata": {},
     "output_type": "execute_result"
    }
   ],
   "source": [
    "'abc' + 'd' == 'abcd'"
   ]
  },
  {
   "cell_type": "code",
   "execution_count": null,
   "id": "05a843a5",
   "metadata": {},
   "outputs": [],
   "source": [
    "bool([1, 2, 3])"
   ]
  },
  {
   "cell_type": "code",
   "execution_count": null,
   "id": "9e0f0646",
   "metadata": {},
   "outputs": [],
   "source": [
    "bool([])"
   ]
  },
  {
   "cell_type": "code",
   "execution_count": null,
   "id": "b2fcc6bf",
   "metadata": {},
   "outputs": [],
   "source": [
    "bool(0)"
   ]
  },
  {
   "cell_type": "code",
   "execution_count": null,
   "id": "2e0c1855",
   "metadata": {},
   "outputs": [],
   "source": [
    "bool(3)"
   ]
  },
  {
   "cell_type": "code",
   "execution_count": null,
   "id": "de096b40",
   "metadata": {},
   "outputs": [],
   "source": [
    "# 자료형의 참과 거짓\n",
    "a = [1, 2, 3, 4]\n",
    "while a :\n",
    "    a.pop()"
   ]
  },
  {
   "cell_type": "code",
   "execution_count": null,
   "id": "dfc51c32",
   "metadata": {},
   "outputs": [],
   "source": [
    "if [] :\n",
    "    print(\"True\")\n",
    "else :\n",
    "    print(\"False\")"
   ]
  },
  {
   "cell_type": "code",
   "execution_count": null,
   "id": "3dbb5acf",
   "metadata": {},
   "outputs": [],
   "source": [
    "if [1, 2, 3] :\n",
    "    print(\"True\")\n",
    "else :\n",
    "    print(\"False\")"
   ]
  },
  {
   "cell_type": "markdown",
   "id": "4742295e-a02a-4008-b37c-d23d91572b22",
   "metadata": {},
   "source": [
    "## Type Conversion"
   ]
  },
  {
   "cell_type": "code",
   "execution_count": 26,
   "id": "1fb61cac",
   "metadata": {},
   "outputs": [
    {
     "name": "stdout",
     "output_type": "stream",
     "text": [
      "10\n"
     ]
    }
   ],
   "source": [
    "a=10\n",
    "print(a)"
   ]
  },
  {
   "cell_type": "code",
   "execution_count": 27,
   "id": "20fa6017",
   "metadata": {},
   "outputs": [
    {
     "name": "stdout",
     "output_type": "stream",
     "text": [
      "10.0\n"
     ]
    }
   ],
   "source": [
    "a = float(10)\n",
    "print(a)"
   ]
  },
  {
   "cell_type": "code",
   "execution_count": 28,
   "id": "248bbc31",
   "metadata": {},
   "outputs": [
    {
     "name": "stdout",
     "output_type": "stream",
     "text": [
      "3.3333333333333335\n"
     ]
    }
   ],
   "source": [
    "b = 3\n",
    "print(a/b)"
   ]
  },
  {
   "cell_type": "code",
   "execution_count": 29,
   "id": "056db35c",
   "metadata": {},
   "outputs": [
    {
     "name": "stdout",
     "output_type": "stream",
     "text": [
      "20\n"
     ]
    }
   ],
   "source": [
    "a = 10.7\n",
    "b = 10.3\n",
    "a = int(a)\n",
    "b= int(b)\n",
    "print(a+b)"
   ]
  },
  {
   "cell_type": "code",
   "execution_count": 30,
   "id": "6312fa04",
   "metadata": {},
   "outputs": [
    {
     "name": "stdout",
     "output_type": "stream",
     "text": [
      "10\n",
      "10\n"
     ]
    }
   ],
   "source": [
    "print(a)\n",
    "print(b)"
   ]
  },
  {
   "cell_type": "code",
   "execution_count": 31,
   "id": "885883be",
   "metadata": {},
   "outputs": [
    {
     "name": "stdout",
     "output_type": "stream",
     "text": [
      "76.3\n"
     ]
    }
   ],
   "source": [
    "a = '76.3'\n",
    "b=float(a)\n",
    "print(a)"
   ]
  },
  {
   "cell_type": "code",
   "execution_count": 32,
   "id": "896aae66",
   "metadata": {},
   "outputs": [
    {
     "name": "stdout",
     "output_type": "stream",
     "text": [
      "76.3\n"
     ]
    }
   ],
   "source": [
    "print(b)"
   ]
  },
  {
   "cell_type": "code",
   "execution_count": 33,
   "id": "2eae438c",
   "metadata": {},
   "outputs": [
    {
     "ename": "TypeError",
     "evalue": "can only concatenate str (not \"float\") to str",
     "output_type": "error",
     "traceback": [
      "\u001B[1;31m---------------------------------------------------------------------------\u001B[0m",
      "\u001B[1;31mTypeError\u001B[0m                                 Traceback (most recent call last)",
      "\u001B[1;32m~\\AppData\\Local\\Temp\\ipykernel_9412\\1083478837.py\u001B[0m in \u001B[0;36m<module>\u001B[1;34m\u001B[0m\n\u001B[1;32m----> 1\u001B[1;33m \u001B[0mprint\u001B[0m\u001B[1;33m(\u001B[0m\u001B[0ma\u001B[0m\u001B[1;33m+\u001B[0m\u001B[0mb\u001B[0m\u001B[1;33m)\u001B[0m\u001B[1;33m\u001B[0m\u001B[1;33m\u001B[0m\u001B[0m\n\u001B[0m",
      "\u001B[1;31mTypeError\u001B[0m: can only concatenate str (not \"float\") to str"
     ]
    }
   ],
   "source": [
    "print(a+b)"
   ]
  },
  {
   "cell_type": "code",
   "execution_count": null,
   "id": "393d15da",
   "metadata": {},
   "outputs": [],
   "source": [
    "print(type(a), type(b))"
   ]
  },
  {
   "cell_type": "code",
   "execution_count": 34,
   "id": "2b6e187f",
   "metadata": {},
   "outputs": [
    {
     "name": "stdout",
     "output_type": "stream",
     "text": [
      "152.6\n"
     ]
    }
   ],
   "source": [
    "a=float(a)\n",
    "b=a\n",
    "print(a+b)"
   ]
  },
  {
   "cell_type": "code",
   "execution_count": 35,
   "id": "8f95ae6b",
   "metadata": {},
   "outputs": [
    {
     "name": "stdout",
     "output_type": "stream",
     "text": [
      "76.376.3\n"
     ]
    }
   ],
   "source": [
    "a=str(a)\n",
    "b=str(b)\n",
    "print(a+b)"
   ]
  },
  {
   "cell_type": "code",
   "execution_count": null,
   "id": "a082a554",
   "metadata": {},
   "outputs": [],
   "source": [
    "print(a+b)"
   ]
  },
  {
   "cell_type": "code",
   "execution_count": 36,
   "id": "4f166064",
   "metadata": {},
   "outputs": [
    {
     "name": "stdout",
     "output_type": "stream",
     "text": [
      "<class 'int'> <class 'float'> <class 'str'>\n"
     ]
    }
   ],
   "source": [
    "a=int(10.3)\n",
    "b=float(10.3)\n",
    "c=str(10.3)\n",
    "print(type(a), type(b), type(c))"
   ]
  },
  {
   "cell_type": "code",
   "execution_count": 37,
   "id": "13491b5d",
   "metadata": {},
   "outputs": [
    {
     "name": "stdout",
     "output_type": "stream",
     "text": [
      "38.8\n"
     ]
    }
   ],
   "source": [
    "c = 38.8\n",
    "print(c)"
   ]
  },
  {
   "cell_type": "markdown",
   "id": "356c6999",
   "metadata": {},
   "source": [
    "<Lab: Yesterday Counter\\> 비틀즈와 배우는 파일 읽기<br>\n",
    "==================================================<br>\n",
    "Count 'yesterday' and 'Yesterday' separately. (Hint: use string method)\n",
    "=================================================="
   ]
  },
  {
   "cell_type": "code",
   "execution_count": 9,
   "id": "b87a5b7a",
   "metadata": {
    "ExecuteTime": {
     "end_time": "2024-03-23T08:02:43.667615100Z",
     "start_time": "2024-03-23T08:02:43.394593600Z"
    }
   },
   "outputs": [
    {
     "name": "stdout",
     "output_type": "stream",
     "text": [
      "Yesterday, all my troubles seemed so far away\n",
      "Now it looks as though they're here to stay\n",
      "oh, I believe in yesterday\n",
      "\n",
      "Suddenly, I'm not half the man I used to be\n",
      "There's a shadow hanging over me\n",
      "Oh, yesterday came suddenly.\n",
      "\n",
      "Why she had to go?\n",
      "I don't know, she wouldn't say\n",
      "I said something wrong\n",
      "Now I long for yesterday.\n",
      "\n",
      "Yesterday love was such an easy game to play\n",
      "Now I need a place to hide away\n",
      "Oh, I believe in yesterday.\n",
      "\n",
      "Why she had to go?\n",
      "I don't know, she wouldn't say\n",
      "I said something wrong\n",
      "Now I long for yesterday.\n",
      "\n",
      "Yesterday love was such an easy game to play\n",
      "Now I need a place to hide away\n",
      "Oh, I believe in yesterday...\n",
      "\n",
      "9\n"
     ]
    }
   ],
   "source": [
    "f = open(\"yesterday.txt\", \"r\")\n",
    "yesterday_lyric = \"\"\n",
    "while 1:\n",
    "    line = f.readline()\n",
    "    # print(line)\n",
    "    if not line:\n",
    "        break\n",
    "    yesterday_lyric = yesterday_lyric + line.strip() + \"\\n\"\n",
    "    # print (yesterday_lyric)\n",
    "f.close()\n",
    "print(yesterday_lyric)\n",
    "\n",
    "print(yesterday_lyric.lower().count('yesterday'));\n"
   ]
  },
  {
   "cell_type": "code",
   "execution_count": 98,
   "id": "b6f72b16",
   "metadata": {},
   "outputs": [
    {
     "ename": "SyntaxError",
     "evalue": "invalid syntax (2127285641.py, line 2)",
     "output_type": "error",
     "traceback": [
      "\u001B[1;36m  Cell \u001B[1;32mIn[98], line 2\u001B[1;36m\u001B[0m\n\u001B[1;33m    n_of_yesterday =\u001B[0m\n\u001B[1;37m                    ^\u001B[0m\n\u001B[1;31mSyntaxError\u001B[0m\u001B[1;31m:\u001B[0m invalid syntax\n"
     ]
    }
   ],
   "source": [
    "# your code\n",
    "n_of_yesterday =\n",
    "print (\"Number of a Word 'Yesterday'\" , n_of_yesterday)"
   ]
  },
  {
   "cell_type": "markdown",
   "id": "916daa5a-f005-4ef4-a306-d26b5c911b4f",
   "metadata": {},
   "source": [
    "\\<Lab: Yesterday Counter 2\\><br>\n",
    "Count all 'yesterday' or 'Yesterday' or 'yeSTerDay' or, ..."
   ]
  },
  {
   "cell_type": "code",
   "execution_count": null,
   "id": "a0b6340a",
   "metadata": {},
   "outputs": [],
   "source": [
    "# your code\n",
    "n_of_yesterday_2 =\n",
    "print (\"Number of a Word 'Yesterday'\" , n_of_yesterday_2)"
   ]
  },
  {
   "cell_type": "markdown",
   "id": "4e2de82a-b3b6-4ab5-a160-c3157035f138",
   "metadata": {},
   "source": [
    "\\<Lab: Yesterday Counter 3\\><br>\n",
    "Yesterday 가사에 몇 가지 단어가 사용되었는지 확인해보세요. 이 문제에서 단어는 띄어쓰기를 기준으로 정의하며, 대문자와 소문자를 구분하지 않습니다. 만약, I'm과 I'M이 가사에 포함되면 동일한 단어로 사용되었다고 간주합니다. "
   ]
  },
  {
   "cell_type": "code",
   "execution_count": null,
   "id": "d584cb14",
   "metadata": {},
   "outputs": [],
   "source": [
    "# your code\n",
    "n_of_unique_words =\n",
    "print (\"Number of unique words:\" , n_of_unique_words)"
   ]
  },
  {
   "cell_type": "markdown",
   "id": "afcca4fd",
   "metadata": {},
   "source": [
    "#### multiline formats"
   ]
  },
  {
   "cell_type": "code",
   "execution_count": null,
   "id": "cb388eb7",
   "metadata": {},
   "outputs": [],
   "source": [
    "multiline_1 = \"Life is too short\\nYou need python\"\n",
    "multiline_2 = \"\"\"Life is too short, \n",
    "You need python\"\"\"\n",
    "multiline_3 = '''Life is too short, \n",
    "You need python'''"
   ]
  },
  {
   "cell_type": "code",
   "execution_count": null,
   "id": "290af46b",
   "metadata": {},
   "outputs": [],
   "source": [
    "print(multiline_1)"
   ]
  },
  {
   "cell_type": "code",
   "execution_count": null,
   "id": "31336f9e",
   "metadata": {},
   "outputs": [],
   "source": [
    "print(multiline_2)"
   ]
  },
  {
   "cell_type": "code",
   "execution_count": null,
   "id": "fc8ae2de",
   "metadata": {},
   "outputs": [],
   "source": [
    "print(multiline_3)"
   ]
  },
  {
   "cell_type": "code",
   "execution_count": null,
   "id": "fe7d5ea3",
   "metadata": {},
   "outputs": [],
   "source": [
    "multiline_2"
   ]
  },
  {
   "cell_type": "markdown",
   "id": "de7eb584",
   "metadata": {},
   "source": [
    "---"
   ]
  },
  {
   "cell_type": "markdown",
   "id": "b8df913a",
   "metadata": {},
   "source": [
    "## Console In & Out!"
   ]
  },
  {
   "cell_type": "code",
   "execution_count": null,
   "id": "bc634abb",
   "metadata": {},
   "outputs": [],
   "source": [
    "print(\"Enter your name\")\n",
    "somebody = input()\n",
    "print(\"Hi\", somebody)\n"
   ]
  },
  {
   "cell_type": "code",
   "execution_count": 47,
   "id": "9743ea0c",
   "metadata": {},
   "outputs": [
    {
     "name": "stdout",
     "output_type": "stream",
     "text": [
      "본 프로그램은 섭씨를 화씨로 변환해주는 프로그램입니다\n",
      "변환하고 싶은 섭씨  온도를 입력해 주세요:\n",
      "32\n",
      "섭씨온도 : 32\n",
      "화씨온도 : 89.6\n"
     ]
    }
   ],
   "source": [
    "print(\"본 프로그램은 섭씨를 화씨로 변환해주는 프로그램입니다\")\n",
    "print(\"변환하고 싶은 섭씨  온도를 입력해 주세요:\")\n",
    "\n",
    "user_input = input()\n",
    "fah = ((9/5) * float(user_input) ) + 32\n",
    "\n",
    "print(\"섭씨온도 :\", user_input)\n",
    "print(\"화씨온도 :\", fah)\n"
   ]
  },
  {
   "cell_type": "markdown",
   "id": "539cc6a4",
   "metadata": {},
   "source": [
    "---"
   ]
  },
  {
   "cell_type": "markdown",
   "id": "27576a21",
   "metadata": {},
   "source": [
    "## Print Formatting"
   ]
  },
  {
   "cell_type": "code",
   "execution_count": 41,
   "id": "b5636142",
   "metadata": {},
   "outputs": [
    {
     "name": "stdout",
     "output_type": "stream",
     "text": [
      "1 2 3\n",
      "a b c\n",
      "1 2 3\n",
      "a b c\n",
      "a b c\n",
      "My name is Jiyeon Seo.\n"
     ]
    }
   ],
   "source": [
    "#formatting intro\n",
    "print(1,2,3)\n",
    "print(\"a\" + \" \" +  \"b\" + \" \" + \"c\")\n",
    "print(\"%d %d %d\" % (1,2,3))\n",
    "print(\"{} {} {}\".format(\"a\",\"b\",\"c\"))\n",
    "print(\"{} {} {}\".format(\"a\",\"b\",\"c\"))\n",
    "name = 'Jiyeon Seo'\n",
    "print(f\"My name is {name}.\")"
   ]
  },
  {
   "cell_type": "code",
   "execution_count": 42,
   "id": "a87faf33",
   "metadata": {},
   "outputs": [
    {
     "name": "stdout",
     "output_type": "stream",
     "text": [
      "My name is Jiyeon Seo.\n",
      "This year: 2024, Last year: 2023.\n"
     ]
    }
   ],
   "source": [
    "name = 'Jiyeon Seo'\n",
    "this_year = 2024\n",
    "print(f'My name is {name}.')\n",
    "print(f'This year: {this_year}, Last year: {this_year-1}.')\n"
   ]
  },
  {
   "cell_type": "code",
   "execution_count": 43,
   "id": "308334ca",
   "metadata": {},
   "outputs": [
    {
     "name": "stdout",
     "output_type": "stream",
     "text": [
      "----------------------------------\n",
      "one two\n",
      "one two\n",
      "1 2\n",
      "1 2\n"
     ]
    }
   ],
   "source": [
    "print(\"----------------------------------\")\n",
    "# from https://pyformat.info/\n",
    "print('%s %s' % ('one', 'two'))\n",
    "print('{} {}'.format('one', 'two'))\n",
    "print('%d %d' % (1, 2))\n",
    "print('{} {}'.format(1, 2))"
   ]
  },
  {
   "cell_type": "code",
   "execution_count": 44,
   "id": "c8134805",
   "metadata": {},
   "outputs": [
    {
     "name": "stdout",
     "output_type": "stream",
     "text": [
      "----------------------------------\n",
      "I eat 3 apples.\n",
      "I eat five apples.\n",
      "I ate 3 apples. I was sick for three days.\n",
      "Product: Apple, Price per unit: 5.243000.\n"
     ]
    }
   ],
   "source": [
    "print(\"----------------------------------\")\n",
    "#%-formatting from https://wikidocs.net/13\n",
    "print(\"I eat %d apples.\" % 3)\n",
    "print(\"I eat %s apples.\" % \"five\")\n",
    "number = 3; day=\"three\"\n",
    "print(\"I ate %d apples. I was sick for %s days.\" % (number, day))\n",
    "print(\"Product: %s, Price per unit: %f.\" % (\"Apple\", 5.243))"
   ]
  },
  {
   "cell_type": "code",
   "execution_count": 46,
   "id": "f0e4a51d",
   "metadata": {},
   "outputs": [
    {
     "name": "stdout",
     "output_type": "stream",
     "text": [
      "----------------------------------\n",
      "I'm living in Seoul.\n",
      "My name is Jiyeon Seo and I'm living in Seoul.\n",
      "Product: Apple, Price per unit: 5.243.\n",
      "----------------------------------\n",
      "Product: Apple, Price per unit: 5.24300.\n",
      "Product: Apple, Price per unit: 5.24300.\n"
     ]
    }
   ],
   "source": [
    "print(\"----------------------------------\")\n",
    "#%-formatting from https://wikidocs.net/13\n",
    "location = 'Seoul'; name='Jiyeon Seo'\n",
    "print(\"I'm living in {0}.\".format(location))\n",
    "print(\"My name is {0} and I'm living in {1}.\".format(name,location))\n",
    "print(\"Product: {0}, Price per unit: {1:.3f}.\".format(\"Apple\", 5.243))\n",
    "\n",
    "print(\"----------------------------------\")\n",
    "print(\"Product: %5s, Price per unit: %.5f.\" % (\"Apple\", 5.243))\n",
    "print(\"Product: {0:5s}, Price per unit: {1:.5f}.\".format(\"Apple\", 5.243))"
   ]
  },
  {
   "cell_type": "code",
   "execution_count": 1,
   "id": "53c8fcf7-8460-4ca2-a449-8755a476aa6f",
   "metadata": {},
   "outputs": [
    {
     "data": {
      "text/plain": [
       "'Product: Apple, Price per unit: 5.24300.'"
      ]
     },
     "execution_count": 1,
     "metadata": {},
     "output_type": "execute_result"
    }
   ],
   "source": [
    "\"Product: {0:5s}, Price per unit: {1:.5f}.\".format(\"Apple\", 5.243)"
   ]
  }
 ],
 "metadata": {
  "kernelspec": {
   "display_name": "Python 3 (ipykernel)",
   "language": "python",
   "name": "python3"
  },
  "language_info": {
   "codemirror_mode": {
    "name": "ipython",
    "version": 3
   },
   "file_extension": ".py",
   "mimetype": "text/x-python",
   "name": "python",
   "nbconvert_exporter": "python",
   "pygments_lexer": "ipython3",
   "version": "3.9.13"
  }
 },
 "nbformat": 4,
 "nbformat_minor": 5
}
