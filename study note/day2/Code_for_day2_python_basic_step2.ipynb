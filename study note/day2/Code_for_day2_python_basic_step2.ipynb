{
 "cells": [
  {
   "cell_type": "markdown",
   "id": "8f42f224",
   "metadata": {},
   "source": [
    "## If-else"
   ]
  },
  {
   "cell_type": "code",
   "execution_count": 3,
   "id": "da514986",
   "metadata": {
    "ExecuteTime": {
     "end_time": "2024-03-30T06:33:34.421127500Z",
     "start_time": "2024-03-30T06:33:33.219557600Z"
    }
   },
   "outputs": [
    {
     "name": "stdout",
     "output_type": "stream",
     "text": [
      "Tell me your age?\n",
      "Welcome to the Club\n"
     ]
    }
   ],
   "source": [
    "print(\"Tell me your age?\")\n",
    "myage = int(input())\n",
    "if (myage < 30):\n",
    "    print(\"Welcome to the Club\")\n",
    "else:\n",
    "    print(\"Oh! No. You are not accepted\")"
   ]
  },
  {
   "cell_type": "code",
   "execution_count": 2,
   "id": "94494c37",
   "metadata": {},
   "outputs": [
    {
     "name": "stdout",
     "output_type": "stream",
     "text": [
      "택시를 타고 가라\n"
     ]
    }
   ],
   "source": [
    "money = True\n",
    "if money:\n",
    "    print(\"택시를 타고 가라\")\n",
    "else:\n",
    "    print(\"걸어 가라\")"
   ]
  },
  {
   "cell_type": "markdown",
   "id": "09b3416d",
   "metadata": {},
   "source": [
    "\\<Quiz\\> 카드의 축복<br>\n",
    "돈이 3000원 이상 있거나 카드가 있다면 택시를 타고 가고, 그렇지 않으면 걸어가도록 코드를 구현해보세요."
   ]
  },
  {
   "cell_type": "code",
   "execution_count": 8,
   "id": "4b294e2d",
   "metadata": {
    "ExecuteTime": {
     "end_time": "2024-03-30T06:36:55.894799600Z",
     "start_time": "2024-03-30T06:36:55.821978100Z"
    }
   },
   "outputs": [
    {
     "name": "stdout",
     "output_type": "stream",
     "text": [
      "택시를 타고 가세요\n"
     ]
    }
   ],
   "source": [
    "money = 3000\n",
    "card = True\n",
    "if money >= 3000 or card :\n",
    "    print(\"택시를 타고 가세요\")\n",
    "else:\n",
    "    print(\"걸어 가세요\")\n",
    "# your code\n"
   ]
  },
  {
   "cell_type": "markdown",
   "id": "856c5ed0",
   "metadata": {},
   "source": [
    "### 학점 프로그램 (절망편)"
   ]
  },
  {
   "cell_type": "code",
   "execution_count": 4,
   "id": "2459b671",
   "metadata": {},
   "outputs": [
    {
     "name": "stdout",
     "output_type": "stream",
     "text": [
      "Grade is A\n",
      "Grade is B\n",
      "Grade is C\n",
      "Grade is D\n"
     ]
    }
   ],
   "source": [
    "score = 95\n",
    "if score >= 90: \n",
    "    grade = 'A'\n",
    "    print(f\"Grade is {grade}\")\n",
    "if score >= 80: \n",
    "    grade = 'B'\n",
    "    print(f\"Grade is {grade}\")\n",
    "if score >= 70: \n",
    "    grade = 'C'\n",
    "    print(f\"Grade is {grade}\")\n",
    "if score >= 60: \n",
    "    grade = 'D'\n",
    "    print(f\"Grade is {grade}\")\n",
    "if score < 60: \n",
    "    grade = 'F'\n",
    "    print(f\"Grade is {grade}\")"
   ]
  },
  {
   "cell_type": "markdown",
   "id": "29d7e713",
   "metadata": {},
   "source": [
    "### 학점 프로그램 (희망편)"
   ]
  },
  {
   "cell_type": "code",
   "execution_count": 5,
   "id": "e7d66a87",
   "metadata": {},
   "outputs": [
    {
     "name": "stdout",
     "output_type": "stream",
     "text": [
      "Grade is A\n"
     ]
    }
   ],
   "source": [
    "score = 95\n",
    "if score >= 90: \n",
    "    grade = 'A'\n",
    "    print(f\"Grade is {grade}\")\n",
    "elif score >= 80: \n",
    "    grade = 'B'\n",
    "    print(f\"Grade is {grade}\")\n",
    "elif score >= 70: \n",
    "    grade = 'C'\n",
    "    print(f\"Grade is {grade}\")\n",
    "elif score >= 60: \n",
    "    grade = 'D'\n",
    "    print(f\"Grade is {grade}\")\n",
    "else: \n",
    "    grade = 'F'\n",
    "    print(f\"Grade is {grade}\")"
   ]
  },
  {
   "cell_type": "markdown",
   "id": "8b4f73a2",
   "metadata": {},
   "source": [
    "### Some mistakes"
   ]
  },
  {
   "cell_type": "code",
   "execution_count": 9,
   "id": "38efcd7e",
   "metadata": {
    "ExecuteTime": {
     "end_time": "2024-03-30T06:40:06.744999600Z",
     "start_time": "2024-03-30T06:40:06.664993800Z"
    }
   },
   "outputs": [],
   "source": [
    "some_list = []\n",
    "if some_list.append(3):\n",
    "    print('True')"
   ]
  },
  {
   "cell_type": "markdown",
   "id": "da11de5c",
   "metadata": {},
   "source": [
    "\\<Quiz\\> 디버깅 예습<br>\n",
    "위 코드에서 True가 출력되지 않은 이유는 무엇일까요?"
   ]
  },
  {
   "cell_type": "code",
   "execution_count": 2,
   "id": "680d55ab",
   "metadata": {},
   "outputs": [],
   "source": [
    "list_2D = [[1,4,2],[9,5,7]]\n",
    "if 4 in list_2D:\n",
    "    print('True')"
   ]
  },
  {
   "cell_type": "markdown",
   "id": "568d57ff",
   "metadata": {},
   "source": [
    "\\<Quiz\\> 디버깅 예습<br>\n",
    "위 코드에서 True가 출력되지 않은 이유는 무엇일까요?"
   ]
  },
  {
   "cell_type": "markdown",
   "id": "be61603e",
   "metadata": {},
   "source": [
    "### 조건부 표현식\n",
    "변수 = 조건문이_참인_경우의_값 if 조건문 else 조건문이_거짓인_경우의_값"
   ]
  },
  {
   "cell_type": "code",
   "execution_count": 3,
   "id": "dc96fe96",
   "metadata": {},
   "outputs": [
    {
     "name": "stdout",
     "output_type": "stream",
     "text": [
      "success\n"
     ]
    }
   ],
   "source": [
    "score = 70\n",
    "message = \"success\" if score >= 60 else \"failure\"\n",
    "print(message)"
   ]
  },
  {
   "cell_type": "markdown",
   "id": "2cad417c",
   "metadata": {},
   "source": [
    "## for-loop"
   ]
  },
  {
   "cell_type": "code",
   "execution_count": 9,
   "id": "28e921ed",
   "metadata": {},
   "outputs": [
    {
     "name": "stdout",
     "output_type": "stream",
     "text": [
      "hello\n",
      "hello\n",
      "hello\n",
      "hello\n",
      "hello\n"
     ]
    }
   ],
   "source": [
    "for looper in [1,2,3,4,5]:\n",
    "    print(\"hello\")"
   ]
  },
  {
   "cell_type": "code",
   "execution_count": 10,
   "id": "39d2c849",
   "metadata": {},
   "outputs": [
    {
     "name": "stdout",
     "output_type": "stream",
     "text": [
      "hello\n",
      "hello\n",
      "hello\n",
      "hello\n",
      "hello\n"
     ]
    }
   ],
   "source": [
    "for _ in [1,2,3,4,5]: # _ for not used element\n",
    "    print(\"hello\")"
   ]
  },
  {
   "cell_type": "code",
   "execution_count": 14,
   "id": "27f54c19",
   "metadata": {
    "ExecuteTime": {
     "end_time": "2024-03-30T06:43:58.439214900Z",
     "start_time": "2024-03-30T06:43:58.293203300Z"
    }
   },
   "outputs": [
    {
     "name": "stdout",
     "output_type": "stream",
     "text": [
      "1\n",
      "3\n",
      "5\n",
      "7\n",
      "9\n"
     ]
    }
   ],
   "source": [
    "for i in range(1, 10, 2):\n",
    "    print(i)"
   ]
  },
  {
   "cell_type": "code",
   "execution_count": 12,
   "id": "3e441b08",
   "metadata": {},
   "outputs": [
    {
     "name": "stdout",
     "output_type": "stream",
     "text": [
      "10\n",
      "9\n",
      "8\n",
      "7\n",
      "6\n",
      "5\n",
      "4\n",
      "3\n",
      "2\n"
     ]
    }
   ],
   "source": [
    "for i in range(10, 1, -1):\n",
    "    print(i)"
   ]
  },
  {
   "cell_type": "code",
   "execution_count": 13,
   "id": "25f3ceb8",
   "metadata": {},
   "outputs": [
    {
     "name": "stdout",
     "output_type": "stream",
     "text": [
      "10\n",
      "8\n",
      "6\n",
      "4\n",
      "2\n"
     ]
    }
   ],
   "source": [
    "for i in range(10, 1, -2):\n",
    "    print(i)"
   ]
  },
  {
   "cell_type": "code",
   "execution_count": 14,
   "id": "95dc1062",
   "metadata": {},
   "outputs": [
    {
     "name": "stdout",
     "output_type": "stream",
     "text": [
      "Americano\n",
      "latte\n",
      "frafuchino\n"
     ]
    }
   ],
   "source": [
    "for coffee in ['Americano', 'latte', 'frafuchino']:\n",
    "    print(coffee)\n"
   ]
  },
  {
   "cell_type": "code",
   "execution_count": 15,
   "id": "f9cdfabc",
   "metadata": {},
   "outputs": [
    {
     "name": "stdout",
     "output_type": "stream",
     "text": [
      "I\n",
      " \n",
      "l\n",
      "o\n",
      "v\n",
      "e\n",
      " \n",
      "y\n",
      "o\n",
      "u\n"
     ]
    }
   ],
   "source": [
    "original_sentence = \"I love you\"\n",
    "for char in original_sentence:\n",
    "    print(char)"
   ]
  },
  {
   "cell_type": "markdown",
   "id": "84421f4d",
   "metadata": {},
   "source": [
    "## while-loop "
   ]
  },
  {
   "cell_type": "code",
   "execution_count": 17,
   "id": "a592104c",
   "metadata": {},
   "outputs": [
    {
     "name": "stdout",
     "output_type": "stream",
     "text": [
      "1\n",
      "2\n",
      "3\n",
      "4\n",
      "5\n",
      "6\n",
      "7\n",
      "8\n",
      "9\n"
     ]
    }
   ],
   "source": [
    "i = 1\n",
    "while i < 10:\n",
    "    print(i)\n",
    "    i += 1"
   ]
  },
  {
   "cell_type": "markdown",
   "id": "3b74d6a3",
   "metadata": {},
   "source": [
    "for loop으로 변환가능"
   ]
  },
  {
   "cell_type": "code",
   "execution_count": 18,
   "id": "ef58bee9",
   "metadata": {},
   "outputs": [
    {
     "name": "stdout",
     "output_type": "stream",
     "text": [
      "0\n",
      "1\n",
      "2\n",
      "3\n",
      "4\n",
      "5\n",
      "6\n",
      "7\n",
      "8\n",
      "9\n"
     ]
    }
   ],
   "source": [
    "for i in range(10):\n",
    "    print(i)"
   ]
  },
  {
   "attachments": {},
   "cell_type": "markdown",
   "id": "14abb079",
   "metadata": {},
   "source": [
    "## 반복의 제어 – break, continue"
   ]
  },
  {
   "cell_type": "code",
   "execution_count": 2,
   "id": "2b34131e",
   "metadata": {},
   "outputs": [
    {
     "name": "stdout",
     "output_type": "stream",
     "text": [
      "0\n",
      "1\n",
      "2\n",
      "3\n",
      "4\n",
      "EOP\n"
     ]
    }
   ],
   "source": [
    "for i in range(10):\n",
    "    if i == 5: #특정 조건에서 반복 종료\n",
    "        break\n",
    "    print(i)\n",
    "print(\"EOP\")"
   ]
  },
  {
   "cell_type": "code",
   "execution_count": 3,
   "id": "6a6b4233",
   "metadata": {},
   "outputs": [
    {
     "name": "stdout",
     "output_type": "stream",
     "text": [
      "0\n",
      "1\n",
      "2\n",
      "3\n",
      "4\n",
      "6\n",
      "7\n",
      "8\n",
      "9\n",
      "EOP\n"
     ]
    }
   ],
   "source": [
    "for i in range(10):\n",
    "    if i == 5: #특정 조건에서 명령 skip\n",
    "        continue\n",
    "    print(i)\n",
    "print(\"EOP\")"
   ]
  },
  {
   "attachments": {},
   "cell_type": "markdown",
   "id": "63a8352a",
   "metadata": {},
   "source": [
    "## 반복의 제어 – else"
   ]
  },
  {
   "cell_type": "code",
   "execution_count": 1,
   "id": "c39335ac",
   "metadata": {
    "ExecuteTime": {
     "end_time": "2024-03-30T06:16:52.631855100Z",
     "start_time": "2024-03-30T06:16:52.606853900Z"
    }
   },
   "outputs": [
    {
     "name": "stdout",
     "output_type": "stream",
     "text": [
      "0\n",
      "1\n",
      "2\n",
      "3\n",
      "4\n",
      "5\n"
     ]
    }
   ],
   "source": [
    "for i in range(10):\n",
    "    print(i)\n",
    "    if i == 5: break\n",
    "else: print(\"EOP\")\n"
   ]
  },
  {
   "cell_type": "code",
   "execution_count": 22,
   "id": "5eee14fb",
   "metadata": {},
   "outputs": [
    {
     "name": "stdout",
     "output_type": "stream",
     "text": [
      "0\n",
      "1\n",
      "2\n",
      "3\n",
      "4\n",
      "5\n",
      "6\n",
      "7\n",
      "8\n",
      "9\n",
      "EOP\n"
     ]
    }
   ],
   "source": [
    "i =0\n",
    "while i < 10: \n",
    "    print (i,)\n",
    "    i += 1\n",
    "else:\n",
    "    print(\"EOP\")"
   ]
  },
  {
   "cell_type": "markdown",
   "id": "d54700f1-b523-4e04-adfe-1941a622e00f",
   "metadata": {},
   "source": [
    "### <연습>구구단 계산기"
   ]
  },
  {
   "cell_type": "code",
   "execution_count": 24,
   "id": "7954fe9f",
   "metadata": {},
   "outputs": [
    {
     "name": "stdout",
     "output_type": "stream",
     "text": [
      "구구단 몇단을 계산할까요?\n"
     ]
    },
    {
     "name": "stdin",
     "output_type": "stream",
     "text": [
      " 2\n"
     ]
    },
    {
     "name": "stdout",
     "output_type": "stream",
     "text": [
      "구구단 2단을 계산합니다\n",
      "2 X 1 = 2\n",
      "2 X 2 = 4\n",
      "2 X 3 = 6\n",
      "2 X 4 = 8\n",
      "2 X 5 = 10\n",
      "2 X 6 = 12\n",
      "2 X 7 = 14\n",
      "2 X 8 = 16\n",
      "2 X 9 = 18\n"
     ]
    }
   ],
   "source": [
    "print(\"구구단 몇단을 계산할까요?\")\n",
    "user_input = input()\n",
    "print(\"구구단 \" +user_input +\"단을 계산합니다\")\n",
    "int_input = int(user_input)\n",
    "for i in range(1, 10):\n",
    "    result = int_input  * i\n",
    "    print (user_input, \"X\", i, \"=\", result)"
   ]
  },
  {
   "cell_type": "markdown",
   "id": "bc7af3ad-c58a-488d-a68f-408c3826d735",
   "metadata": {},
   "source": [
    "### Loop Overview"
   ]
  },
  {
   "cell_type": "code",
   "execution_count": 16,
   "id": "b9807ea3",
   "metadata": {},
   "outputs": [
    {
     "name": "stdout",
     "output_type": "stream",
     "text": [
      "I =====  =====\n",
      "I\n",
      "  ===== I =====\n",
      " I\n",
      "l =====  I =====\n",
      "l I\n",
      "o ===== l I =====\n",
      "ol I\n",
      "v ===== ol I =====\n",
      "vol I\n",
      "e ===== vol I =====\n",
      "evol I\n",
      "  ===== evol I =====\n",
      " evol I\n",
      "y =====  evol I =====\n",
      "y evol I\n",
      "o ===== y evol I =====\n",
      "oy evol I\n",
      "u ===== oy evol I =====\n",
      "uoy evol I\n"
     ]
    }
   ],
   "source": [
    "original_sentence = \"I love you\"\n",
    "reverse_sentence = ''\n",
    "for char in original_sentence:\n",
    "    print(char, \"=====\", reverse_sentence, \"=====\",)\n",
    "    reverse_sentence = char + reverse_sentence\n",
    "    print(reverse_sentence)"
   ]
  },
  {
   "cell_type": "code",
   "execution_count": 5,
   "id": "f7dfd86a-fc03-4003-96ef-33c741adad50",
   "metadata": {},
   "outputs": [
    {
     "name": "stdout",
     "output_type": "stream",
     "text": [
      "uoy evol I\n"
     ]
    }
   ],
   "source": [
    "sentence = \"I love you\"\n",
    "reverse_sentence = ''\n",
    "for char in sentence:\n",
    "    reverse_sentence = char + reverse_sentence\n",
    "print (reverse_sentence)\n"
   ]
  },
  {
   "cell_type": "code",
   "execution_count": 25,
   "id": "e7464e23",
   "metadata": {
    "scrolled": true
   },
   "outputs": [
    {
     "name": "stdout",
     "output_type": "stream",
     "text": [
      "1010\n"
     ]
    }
   ],
   "source": [
    "decimal = 10\n",
    "result = ''\n",
    "while (decimal > 0):\n",
    "    remainder = decimal % 2\n",
    "    decimal = decimal // 2\n",
    "    result = str(remainder) + result\n",
    "print (result)\n"
   ]
  },
  {
   "cell_type": "markdown",
   "id": "d082a6de-42ed-4087-9104-6125af731cec",
   "metadata": {},
   "source": [
    "## Loop- Debugging"
   ]
  },
  {
   "cell_type": "code",
   "execution_count": 28,
   "id": "70fac361-5810-4322-8246-5fb16b31695c",
   "metadata": {
    "scrolled": true
   },
   "outputs": [
    {
     "name": "stdout",
     "output_type": "stream",
     "text": [
      "input decimal number: \n"
     ]
    },
    {
     "name": "stdin",
     "output_type": "stream",
     "text": [
      " 412\n"
     ]
    },
    {
     "name": "stdout",
     "output_type": "stream",
     "text": [
      "----------- 0 loop value check -------- \n",
      "Initial decimal: 412 , Remainder: 0 , Initial result \n",
      "Output decimal: 206 Output result: 0\n",
      "------------------------------------------------------\n",
      "\n",
      "----------- 1 loop value check -------- \n",
      "Initial decimal: 206 , Remainder: 0 , Initial result 0\n",
      "Output decimal: 103 Output result: 00\n",
      "------------------------------------------------------\n",
      "\n",
      "----------- 2 loop value check -------- \n",
      "Initial decimal: 103 , Remainder: 1 , Initial result 00\n",
      "Output decimal: 51 Output result: 100\n",
      "------------------------------------------------------\n",
      "\n",
      "----------- 3 loop value check -------- \n",
      "Initial decimal: 51 , Remainder: 1 , Initial result 100\n",
      "Output decimal: 25 Output result: 1100\n",
      "------------------------------------------------------\n",
      "\n",
      "----------- 4 loop value check -------- \n",
      "Initial decimal: 25 , Remainder: 1 , Initial result 1100\n",
      "Output decimal: 12 Output result: 11100\n",
      "------------------------------------------------------\n",
      "\n",
      "----------- 5 loop value check -------- \n",
      "Initial decimal: 12 , Remainder: 0 , Initial result 11100\n",
      "Output decimal: 6 Output result: 011100\n",
      "------------------------------------------------------\n",
      "\n",
      "----------- 6 loop value check -------- \n",
      "Initial decimal: 6 , Remainder: 0 , Initial result 011100\n",
      "Output decimal: 3 Output result: 0011100\n",
      "------------------------------------------------------\n",
      "\n",
      "----------- 7 loop value check -------- \n",
      "Initial decimal: 3 , Remainder: 1 , Initial result 0011100\n",
      "Output decimal: 1 Output result: 10011100\n",
      "------------------------------------------------------\n",
      "\n",
      "----------- 8 loop value check -------- \n",
      "Initial decimal: 1 , Remainder: 1 , Initial result 10011100\n",
      "Output decimal: 0 Output result: 110011100\n",
      "------------------------------------------------------\n",
      "\n",
      "Binary number is 110011100\n"
     ]
    }
   ],
   "source": [
    "print (\"input decimal number: \",)\n",
    "decimal = int(input())\n",
    "result =\"\"\n",
    "loop_counter = 0\n",
    "while (decimal > 0):\n",
    "    temp_decimal_input = decimal\n",
    "    temp_result_input=result\n",
    "\n",
    "    remainder = decimal % 2\n",
    "    decimal = decimal // 2\n",
    "    result = str(remainder) + result\n",
    "\n",
    "    print (\"-----------\", loop_counter, \"loop value check -------- \")\n",
    "    print (\"Initial decimal:\", temp_decimal_input,\n",
    "           \", Remainder:\",remainder,\n",
    "           \", Initial result\", temp_result_input)\n",
    "    print (\"Output decimal:\", decimal,\n",
    "           \"Output result:\", result)\n",
    "    print (\"------------------------------------------------------\")\n",
    "    print (\"\")\n",
    "\n",
    "    loop_counter += 1\n",
    "print (\"Binary number is\", result)\n"
   ]
  },
  {
   "cell_type": "markdown",
   "id": "1f629a8e-2f16-4074-bac8-c60cb5ce4624",
   "metadata": {},
   "source": [
    "### 평균 점수 구하기"
   ]
  },
  {
   "cell_type": "code",
   "execution_count": 8,
   "id": "df416504-5798-4789-95b4-cb7f53041e4c",
   "metadata": {},
   "outputs": [],
   "source": [
    "kor_score=[49,79,20,100,80]\n",
    "math_score=[43,59,85,30,90] \n",
    "eng_score=[49,79,48,60,100]\n",
    "midterm_score=[kor_score,math_score,eng_score]"
   ]
  },
  {
   "cell_type": "code",
   "execution_count": 9,
   "id": "0285e03d-aa1c-4519-9977-21e5ec7c2fbb",
   "metadata": {},
   "outputs": [
    {
     "name": "stdout",
     "output_type": "stream",
     "text": [
      "[47.0, 72.33333333333333, 51.0, 63.333333333333336, 90.0]\n"
     ]
    }
   ],
   "source": [
    "student_score = [0,0,0,0,0]\n",
    "i = 0\n",
    "for subject in midterm_score:\n",
    "    for score in subject:\n",
    "        student_score[i] += score # 각 학생마다 개별로 교과 점수를 저장\n",
    "        i += 1 # 학생 index 구분\n",
    "    i = 0 # 과목이 바뀔 때 학생 인덱스 초기화\n",
    "else:\n",
    "    a, b, c, d, e = student_score # 학생 별 점수를 unpacking \n",
    "    student_average = [a/3,b/3,c/3,d/3,e/3] #\n",
    "    print (student_average)\n"
   ]
  },
  {
   "cell_type": "markdown",
   "id": "0b8ce4dd-7dc9-4c78-8ce8-19459507e5ae",
   "metadata": {},
   "source": [
    "### Debugging"
   ]
  },
  {
   "cell_type": "code",
   "execution_count": 11,
   "id": "38e1fdce-c3c0-4373-bb63-ec161d3046a5",
   "metadata": {},
   "outputs": [
    {
     "ename": "IndentationError",
     "evalue": "unexpected indent (2302897142.py, line 2)",
     "output_type": "error",
     "traceback": [
      "\u001B[1;36m  Cell \u001B[1;32mIn[11], line 2\u001B[1;36m\u001B[0m\n\u001B[1;33m    y = 5 # IndentationError\u001B[0m\n\u001B[1;37m    ^\u001B[0m\n\u001B[1;31mIndentationError\u001B[0m\u001B[1;31m:\u001B[0m unexpected indent\n"
     ]
    }
   ],
   "source": [
    "x = 2\n",
    " y = 5 # IndentationError\n",
    "print (x+y)\n"
   ]
  },
  {
   "cell_type": "code",
   "execution_count": 12,
   "id": "7bc55494-0cce-412b-9ca3-369efe7f34ef",
   "metadata": {},
   "outputs": [
    {
     "ename": "NameError",
     "evalue": "name 'pront' is not defined",
     "output_type": "error",
     "traceback": [
      "\u001B[1;31m---------------------------------------------------------------------------\u001B[0m",
      "\u001B[1;31mNameError\u001B[0m                                 Traceback (most recent call last)",
      "Cell \u001B[1;32mIn[12], line 1\u001B[0m\n\u001B[1;32m----> 1\u001B[0m \u001B[43mpront\u001B[49m (x\u001B[38;5;241m+\u001B[39my) \u001B[38;5;66;03m# Not Print, But Pront\u001B[39;00m\n",
      "\u001B[1;31mNameError\u001B[0m: name 'pront' is not defined"
     ]
    }
   ],
   "source": [
    "pront (x+y) # Not Print, But Pront"
   ]
  },
  {
   "cell_type": "code",
   "execution_count": 13,
   "id": "e5f1791c-6efe-4b12-8f5a-44cd6b9df944",
   "metadata": {},
   "outputs": [
    {
     "ename": "NameError",
     "evalue": "name 'DFMBA' is not defined",
     "output_type": "error",
     "traceback": [
      "\u001B[1;31m---------------------------------------------------------------------------\u001B[0m",
      "\u001B[1;31mNameError\u001B[0m                                 Traceback (most recent call last)",
      "Cell \u001B[1;32mIn[13], line 2\u001B[0m\n\u001B[0;32m      1\u001B[0m Dfmba \u001B[38;5;241m=\u001B[39m \u001B[38;5;124m\"\u001B[39m\u001B[38;5;124mACE\u001B[39m\u001B[38;5;124m\"\u001B[39m\n\u001B[1;32m----> 2\u001B[0m \u001B[38;5;28mprint\u001B[39m (\u001B[43mDFMBA\u001B[49m) \n",
      "\u001B[1;31mNameError\u001B[0m: name 'DFMBA' is not defined"
     ]
    }
   ],
   "source": [
    "Dfmba = \"ACE\"\n",
    "print (DFMBA) "
   ]
  },
  {
   "cell_type": "code",
   "execution_count": 15,
   "id": "952844a6-4ce8-43f2-9723-d76ba5268295",
   "metadata": {},
   "outputs": [
    {
     "data": {
      "text/plain": [
       "15"
      ]
     },
     "execution_count": 15,
     "metadata": {},
     "output_type": "execute_result"
    }
   ],
   "source": [
    "import trapezium_area as ta\n",
    "ta.addition(10,5)"
   ]
  },
  {
   "cell_type": "code",
   "execution_count": 16,
   "id": "78ea8aa3-54f2-43e1-92da-43469b78f8d7",
   "metadata": {},
   "outputs": [
    {
     "data": {
      "text/plain": [
       "50"
      ]
     },
     "execution_count": 16,
     "metadata": {},
     "output_type": "execute_result"
    }
   ],
   "source": [
    "ta.multiplication(10,5)"
   ]
  },
  {
   "cell_type": "code",
   "execution_count": 17,
   "id": "f14e95ea-60c5-4ea6-89f3-8ea4687b76ba",
   "metadata": {},
   "outputs": [
    {
     "data": {
      "text/plain": [
       "25.0"
      ]
     },
     "execution_count": 17,
     "metadata": {},
     "output_type": "execute_result"
    }
   ],
   "source": [
    "ta.divided_by_2(50)"
   ]
  },
  {
   "cell_type": "code",
   "execution_count": 22,
   "id": "08bcd525-4720-4ae9-9664-ca22fcab0236",
   "metadata": {},
   "outputs": [],
   "source": [
    "import trapezium_area_test"
   ]
  },
  {
   "cell_type": "code",
   "execution_count": 21,
   "id": "9f859d42-49c8-4802-9bde-4d0cc1358861",
   "metadata": {},
   "outputs": [
    {
     "name": "stdout",
     "output_type": "stream",
     "text": [
      "15\n",
      "50\n",
      "25.0\n"
     ]
    }
   ],
   "source": [
    "import trapezium_area_test2"
   ]
  },
  {
   "cell_type": "markdown",
   "id": "c9266fe1-3a8b-4b79-b3b2-4524f63969af",
   "metadata": {},
   "source": [
    "# 함수"
   ]
  },
  {
   "cell_type": "code",
   "execution_count": 29,
   "id": "c71135f2-ae78-42be-b960-0e2fb65230ba",
   "metadata": {},
   "outputs": [],
   "source": [
    "# 사각형의 넓이를 구하는 함수\n",
    "def calculate_rectangle_area (x , y):\n",
    "    return x * y\t# 가로, 세로를 곱해서 반환\n"
   ]
  },
  {
   "cell_type": "code",
   "execution_count": 30,
   "id": "dd92cef3-5bc4-4230-afd0-254acf4623b6",
   "metadata": {},
   "outputs": [
    {
     "data": {
      "text/plain": [
       "20"
      ]
     },
     "execution_count": 30,
     "metadata": {},
     "output_type": "execute_result"
    }
   ],
   "source": [
    "calculate_rectangle_area(4,5)"
   ]
  },
  {
   "cell_type": "code",
   "execution_count": 31,
   "id": "16e98393-526d-49d0-9331-c08ab5e82f34",
   "metadata": {},
   "outputs": [
    {
     "name": "stdout",
     "output_type": "stream",
     "text": [
      "사각형 x의 길이:  10\n",
      "사각형 y의 길이:  20\n",
      "사각형의\t넓이:  200\n"
     ]
    }
   ],
   "source": [
    "rectangle_x = 10\n",
    "rectangle_y = 20\n",
    "print (\"사각형 x의 길이: \",rectangle_x)\n",
    "print (\"사각형 y의 길이: \",rectangle_y)\n",
    "print (\"사각형의\t넓이: \", calculate_rectangle_area(rectangle_x, rectangle_y))\n"
   ]
  },
  {
   "cell_type": "code",
   "execution_count": 32,
   "id": "ce741134-3faa-43a6-9137-54f6775d827a",
   "metadata": {},
   "outputs": [],
   "source": [
    "def f(x):\n",
    "    return 2*x+7\n",
    "def g(x):\n",
    "    return x ** 2\n",
    "x = 2"
   ]
  },
  {
   "cell_type": "code",
   "execution_count": 33,
   "id": "d467a536-01a2-4a9c-85ad-1e940dcecc8f",
   "metadata": {},
   "outputs": [
    {
     "name": "stdout",
     "output_type": "stream",
     "text": [
      "11\n"
     ]
    }
   ],
   "source": [
    "print(f(x))\n"
   ]
  },
  {
   "cell_type": "code",
   "execution_count": 34,
   "id": "00650056-1db7-4f0a-8c3c-54f4c6cfa586",
   "metadata": {},
   "outputs": [
    {
     "name": "stdout",
     "output_type": "stream",
     "text": [
      "151\n"
     ]
    }
   ],
   "source": [
    "print(f(x) + g(x) + f(g(x)) + g(f(x)))"
   ]
  },
  {
   "cell_type": "code",
   "execution_count": 35,
   "id": "c4a951e9-2b64-4338-b90e-144902e39842",
   "metadata": {},
   "outputs": [
    {
     "name": "stdout",
     "output_type": "stream",
     "text": [
      "35\n",
      "35\n",
      "35\n",
      "35\n"
     ]
    }
   ],
   "source": [
    "def a_rectangle_area():# 인자\tX , 리턴\t값\tX\n",
    "    print (5 * 7)\n",
    "def b_rectangle_area(x,y): # 인자\tO , 리턴\t값\tX\n",
    "    print (x * y)\n",
    "def c_rectangle_area():\t# 인자\tX , 리턴\t값\tO\n",
    "    return (5 * 7)\n",
    "def d_rectangle_area(x ,y):#  인자\tO , 리턴\t값\tO\n",
    "    return (x * y)\n",
    "\n",
    "a_rectangle_area() \n",
    "b_rectangle_area(5,7) \n",
    "print(c_rectangle_area())\n",
    "print(d_rectangle_area(5,7))\n"
   ]
  },
  {
   "cell_type": "code",
   "execution_count": 36,
   "id": "02f2d9e4-0a6e-46bb-8ce3-45d54209a10e",
   "metadata": {},
   "outputs": [
    {
     "name": "stdout",
     "output_type": "stream",
     "text": [
      "35\n",
      "None\n"
     ]
    }
   ],
   "source": [
    "print(a_rectangle_area())"
   ]
  },
  {
   "cell_type": "markdown",
   "id": "d65beafe-8389-4fd0-a62d-0b6842395820",
   "metadata": {},
   "source": [
    "### Scoping Rule"
   ]
  },
  {
   "cell_type": "code",
   "execution_count": 4,
   "id": "c1ef9acb-029f-4d80-8d5d-83b6563b81bf",
   "metadata": {},
   "outputs": [
    {
     "name": "stdout",
     "output_type": "stream",
     "text": [
      "10\n",
      "In Function : 20\n"
     ]
    },
    {
     "ename": "NameError",
     "evalue": "name 't' is not defined",
     "output_type": "error",
     "traceback": [
      "\u001B[1;31m---------------------------------------------------------------------------\u001B[0m",
      "\u001B[1;31mNameError\u001B[0m                                 Traceback (most recent call last)",
      "Cell \u001B[1;32mIn[4], line 8\u001B[0m\n\u001B[0;32m      6\u001B[0m x \u001B[38;5;241m=\u001B[39m \u001B[38;5;241m10\u001B[39m\n\u001B[0;32m      7\u001B[0m test(x)\n\u001B[1;32m----> 8\u001B[0m \u001B[38;5;28mprint\u001B[39m(\u001B[43mt\u001B[49m)\n",
      "\u001B[1;31mNameError\u001B[0m: name 't' is not defined"
     ]
    }
   ],
   "source": [
    "def test(t):\n",
    "    print(x)\n",
    "    t = 20\n",
    "    print(\"In Function :\", t)\n",
    "\n",
    "x = 10\n",
    "test(x)\n",
    "print(t)\n"
   ]
  },
  {
   "cell_type": "code",
   "execution_count": 42,
   "id": "8bec0efe-0f52-4e30-b13c-3dae10e8e0bb",
   "metadata": {},
   "outputs": [],
   "source": [
    "def f():\n",
    "    s = \"I love London!\"\n",
    "    print(s)\n"
   ]
  },
  {
   "cell_type": "code",
   "execution_count": 43,
   "id": "20b0fa79-edc7-4384-8811-962130718bf8",
   "metadata": {},
   "outputs": [
    {
     "name": "stdout",
     "output_type": "stream",
     "text": [
      "I love London!\n",
      "I love Paris!\n"
     ]
    }
   ],
   "source": [
    "s = \"I love Paris!\" \n",
    "f()\n",
    "print(s)\n"
   ]
  },
  {
   "cell_type": "code",
   "execution_count": 44,
   "id": "235d3ba0-3703-4fb3-8d34-98fad565bd68",
   "metadata": {},
   "outputs": [
    {
     "name": "stdout",
     "output_type": "stream",
     "text": [
      "I love London!\n",
      "I love London!\n"
     ]
    }
   ],
   "source": [
    "def f():\n",
    "    global s\n",
    "    s = \"I love London!\"\n",
    "    print(s)\n",
    "\n",
    "s = \"I love Paris!\" \n",
    "f()\n",
    "print(s)\n"
   ]
  },
  {
   "cell_type": "code",
   "execution_count": 5,
   "id": "e4a7293c-39fc-4353-b1e9-0e5f54f2319a",
   "metadata": {},
   "outputs": [],
   "source": [
    "def calculate(x, y):\n",
    "    total = x + y\t# 새로운\t값이\t할당되어\t함수\t내\ttotal은\t지역변수가\t됨\n",
    "    print (\"In Function\")\n",
    "    print (\"a:\", str(a), \"b:\", str(b), \"a+b:\", str(a+b), \"total :\", str(total)) \n",
    "    return total"
   ]
  },
  {
   "cell_type": "code",
   "execution_count": 6,
   "id": "3375d92b-e992-492f-86e0-810732192481",
   "metadata": {},
   "outputs": [
    {
     "name": "stdout",
     "output_type": "stream",
     "text": [
      "In Program - 1\n",
      "a: 5 b: 7 a+b: 12\n",
      "In Function\n",
      "a: 5 b: 7 a+b: 12 total : 12\n",
      "After Calculation\n",
      "Total : 0  Sum: 12\n"
     ]
    }
   ],
   "source": [
    "a = 5\n",
    "b = 7\n",
    "total = 0\n",
    "print (\"In Program - 1\")\n",
    "print (\"a:\", str(a), \"b:\", str(b), \"a+b:\", str(a+b))\n",
    "\n",
    "sum_value = calculate (a,b) \n",
    "print (\"After Calculation\")\n",
    "print (\"Total :\", str(total), \" Sum:\", str(sum_value)) # 지역변수는\t전역변수에\t영향\tX\n"
   ]
  },
  {
   "cell_type": "markdown",
   "id": "8503660d-c991-48a2-98a5-ac8036b1adda",
   "metadata": {},
   "source": [
    "## Recursive Function"
   ]
  },
  {
   "cell_type": "code",
   "execution_count": 52,
   "id": "51638509-6142-4097-92a8-6624ec4cf12c",
   "metadata": {},
   "outputs": [
    {
     "name": "stdin",
     "output_type": "stream",
     "text": [
      "Input Number for Factorial Calculation:  6\n"
     ]
    },
    {
     "name": "stdout",
     "output_type": "stream",
     "text": [
      "720\n"
     ]
    }
   ],
   "source": [
    "def factorial(n):\n",
    "    if n == 1:\n",
    "        return 1\n",
    "    else:\n",
    "        return n * factorial(n-1)\n",
    "print (factorial(int(input(\"Input Number for Factorial Calculation: \"))))\n"
   ]
  },
  {
   "cell_type": "markdown",
   "id": "4a6e1cd9-2916-45ed-85ea-f11831633331",
   "metadata": {},
   "source": [
    "### Arguments"
   ]
  },
  {
   "cell_type": "code",
   "execution_count": 7,
   "id": "79624216-4352-4f57-96db-dbd03cc781b9",
   "metadata": {},
   "outputs": [
    {
     "name": "stdout",
     "output_type": "stream",
     "text": [
      "Hello DFMBA, My name is Jiyeon\n",
      "Hello DFMBA, My name is Jiyeon\n"
     ]
    }
   ],
   "source": [
    "def print_somthing(my_name, your_name):\n",
    "    print(\"Hello {0}, My name is {1}\".format(your_name, my_name))\n",
    "\n",
    "print_somthing(\"Jiyeon\", \"DFMBA\") \n",
    "print_somthing(your_name=\"DFMBA\", my_name=\"Jiyeon\")\n"
   ]
  },
  {
   "cell_type": "code",
   "execution_count": 8,
   "id": "bb2d9710-6bdb-43ff-9cb0-513db39e4ad7",
   "metadata": {},
   "outputs": [
    {
     "name": "stdout",
     "output_type": "stream",
     "text": [
      "Hello DFMBA, My name is Jiyeon\n",
      "Hello DFMBA, My name is Jiyeon\n"
     ]
    }
   ],
   "source": [
    "def print_somthing_2(my_name, your_name=\"DFMBA\"):\n",
    "    print(\"Hello {0}, My name is {1}\".format(your_name, my_name))\n",
    "\n",
    "print_somthing_2(\"Jiyeon\", \"DFMBA\")\n",
    "print_somthing_2(\"Jiyeon\")\n"
   ]
  },
  {
   "cell_type": "code",
   "execution_count": 9,
   "id": "f97471a9-68f3-4dda-9d36-519cfe7b4535",
   "metadata": {},
   "outputs": [
    {
     "name": "stdout",
     "output_type": "stream",
     "text": [
      "15\n"
     ]
    }
   ],
   "source": [
    "def asterisk_test(a, b, *args): \n",
    "    return a+b+sum(args)\n",
    "\n",
    "print(asterisk_test(1, 2, 3, 4, 5))\n"
   ]
  },
  {
   "cell_type": "code",
   "execution_count": 10,
   "id": "4e292f3d-f2b8-45d6-918b-780c636d1914",
   "metadata": {},
   "outputs": [
    {
     "name": "stdout",
     "output_type": "stream",
     "text": [
      "(3, 4, 5)\n"
     ]
    }
   ],
   "source": [
    "def asterisk_test_2(*args): \n",
    "    x, y, z = args\n",
    "    return x, y, z\n",
    "\n",
    "print(asterisk_test_2(3, 4, 5))\n"
   ]
  },
  {
   "cell_type": "code",
   "execution_count": 13,
   "id": "a81fb9a8-ef35-4c40-bfed-871002a981d1",
   "metadata": {},
   "outputs": [],
   "source": [
    "def kwargs_test_1(**kwargs): \n",
    "    print(kwargs)\n",
    "\n",
    "\n",
    "def kwargs_test_2(**kwargs): \n",
    "    print(kwargs)\n",
    "    print(\"First value is {first}\".format(**kwargs)) \n",
    "    print(\"Second value is {second}\".format(**kwargs)) \n",
    "    print(\"Third value is {third}\".format(**kwargs))\n"
   ]
  },
  {
   "cell_type": "code",
   "execution_count": 17,
   "id": "aed1ba4c-286a-4724-8ce3-f412da06f3df",
   "metadata": {},
   "outputs": [
    {
     "name": "stdout",
     "output_type": "stream",
     "text": [
      "{'first': 'hey', 'second': 'ho', 'third': 'go'}\n",
      "First value is hey\n",
      "Second value is ho\n",
      "Third value is go\n"
     ]
    }
   ],
   "source": [
    "kwargs_test_2(**{\"first\":\"hey\",\"second\":\"ho\",\"third\":\"go\"})"
   ]
  },
  {
   "cell_type": "code",
   "execution_count": 18,
   "id": "84629c57-d1b8-49a8-a14c-e1313606253a",
   "metadata": {},
   "outputs": [
    {
     "name": "stdout",
     "output_type": "stream",
     "text": [
      "42\n",
      "{'first': 3, 'second': 4, 'third': 5}\n"
     ]
    }
   ],
   "source": [
    "def kwargs_test_3(one,two, *args, **kwargs): \n",
    "    print(one+two+sum(args))\n",
    "    print(kwargs)\n",
    "\n",
    "kwargs_test_3(3,4,5,6,7,8,9, first=3, second=4, third=5)\n"
   ]
  }
 ],
 "metadata": {
  "kernelspec": {
   "display_name": "Python 3 (ipykernel)",
   "language": "python",
   "name": "python3"
  },
  "language_info": {
   "codemirror_mode": {
    "name": "ipython",
    "version": 3
   },
   "file_extension": ".py",
   "mimetype": "text/x-python",
   "name": "python",
   "nbconvert_exporter": "python",
   "pygments_lexer": "ipython3",
   "version": "3.9.13"
  }
 },
 "nbformat": 4,
 "nbformat_minor": 5
}
